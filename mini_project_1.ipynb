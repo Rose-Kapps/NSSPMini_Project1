{
 "cells": [
  {
   "cell_type": "markdown",
   "id": "5c547153-52ce-4382-9edc-3791c7dcb251",
   "metadata": {},
   "source": [
    "# Mini-Project 1"
   ]
  },
  {
   "cell_type": "code",
   "execution_count": 1,
   "id": "bfa124eb-af23-4abc-9457-b2ab4e516729",
   "metadata": {},
   "outputs": [
    {
     "name": "stderr",
     "output_type": "stream",
     "text": [
      "Gtk-Message: 14:56:48.860: Failed to load module \"canberra-gtk-module\"\n"
     ]
    },
    {
     "name": "stdout",
     "output_type": "stream",
     "text": [
      "Requirement already satisfied: antspyx in /opt/conda/lib/python3.11/site-packages (0.5.3)\n",
      "Requirement already satisfied: pandas in /opt/conda/lib/python3.11/site-packages (from antspyx) (2.2.2)\n",
      "Requirement already satisfied: pyyaml in /opt/conda/lib/python3.11/site-packages (from antspyx) (6.0.1)\n",
      "Requirement already satisfied: numpy in /opt/conda/lib/python3.11/site-packages (from antspyx) (1.26.4)\n",
      "Requirement already satisfied: statsmodels in /opt/conda/lib/python3.11/site-packages (from antspyx) (0.14.2)\n",
      "Requirement already satisfied: webcolors in /opt/conda/lib/python3.11/site-packages (from antspyx) (1.13)\n",
      "Requirement already satisfied: matplotlib in /opt/conda/lib/python3.11/site-packages (from antspyx) (3.9.2)\n",
      "Requirement already satisfied: Pillow in /opt/conda/lib/python3.11/site-packages (from antspyx) (10.0.0)\n",
      "Requirement already satisfied: requests in /opt/conda/lib/python3.11/site-packages (from antspyx) (2.31.0)\n",
      "Requirement already satisfied: contourpy>=1.0.1 in /opt/conda/lib/python3.11/site-packages (from matplotlib->antspyx) (1.3.0)\n",
      "Requirement already satisfied: cycler>=0.10 in /opt/conda/lib/python3.11/site-packages (from matplotlib->antspyx) (0.12.1)\n",
      "Requirement already satisfied: fonttools>=4.22.0 in /opt/conda/lib/python3.11/site-packages (from matplotlib->antspyx) (4.53.1)\n",
      "Requirement already satisfied: kiwisolver>=1.3.1 in /opt/conda/lib/python3.11/site-packages (from matplotlib->antspyx) (1.4.7)\n",
      "Requirement already satisfied: packaging>=20.0 in /opt/conda/lib/python3.11/site-packages (from matplotlib->antspyx) (23.2)\n",
      "Requirement already satisfied: pyparsing>=2.3.1 in /opt/conda/lib/python3.11/site-packages (from matplotlib->antspyx) (3.1.4)\n",
      "Requirement already satisfied: python-dateutil>=2.7 in /opt/conda/lib/python3.11/site-packages (from matplotlib->antspyx) (2.8.2)\n",
      "Requirement already satisfied: pytz>=2020.1 in /opt/conda/lib/python3.11/site-packages (from pandas->antspyx) (2023.3)\n",
      "Requirement already satisfied: tzdata>=2022.7 in /opt/conda/lib/python3.11/site-packages (from pandas->antspyx) (2024.1)\n",
      "Requirement already satisfied: charset-normalizer<4,>=2 in /opt/conda/lib/python3.11/site-packages (from requests->antspyx) (3.3.0)\n",
      "Requirement already satisfied: idna<4,>=2.5 in /opt/conda/lib/python3.11/site-packages (from requests->antspyx) (3.4)\n",
      "Requirement already satisfied: urllib3<3,>=1.21.1 in /opt/conda/lib/python3.11/site-packages (from requests->antspyx) (2.0.7)\n",
      "Requirement already satisfied: certifi>=2017.4.17 in /opt/conda/lib/python3.11/site-packages (from requests->antspyx) (2024.8.30)\n",
      "Requirement already satisfied: scipy!=1.9.2,>=1.8 in /opt/conda/lib/python3.11/site-packages (from statsmodels->antspyx) (1.14.1)\n",
      "Requirement already satisfied: patsy>=0.5.6 in /opt/conda/lib/python3.11/site-packages (from statsmodels->antspyx) (0.5.6)\n",
      "Requirement already satisfied: six in /opt/conda/lib/python3.11/site-packages (from patsy>=0.5.6->statsmodels->antspyx) (1.16.0)\n"
     ]
    }
   ],
   "source": [
    "%gui wx\n",
    "import sys\n",
    "import os\n",
    "\n",
    "#####################\n",
    "# Import of utils.py functions\n",
    "#####################\n",
    "# Required to get utils.py and access its functions\n",
    "notebook_dir = os.path.abspath(\"\")\n",
    "parent_dir = os.path.abspath(os.path.join(notebook_dir, '..'))\n",
    "sys.path.append(parent_dir)\n",
    "sys.path.append('.')\n",
    "from utils import loadFSL, FSLeyesServer, mkdir_no_exist, interactive_MCQ\n",
    "\n",
    "####################\n",
    "# DIPY_HOME should be set prior to import of dipy to make sure all downloads point to the right folder\n",
    "####################\n",
    "os.environ[\"DIPY_HOME\"] = \"/home/jovyan/Data\"\n",
    "\n",
    "\n",
    "#############################\n",
    "# Loading fsl and freesurfer within Neurodesk\n",
    "# You can find the list of available other modules by clicking on the \"Softwares\" tab on the left\n",
    "#############################\n",
    "import lmod\n",
    "await lmod.purge(force=True)\n",
    "await lmod.load('fsl/6.0.7.4')\n",
    "await lmod.load('freesurfer/7.4.1')\n",
    "await lmod.list()\n",
    "\n",
    "####################\n",
    "# Setup FSL path\n",
    "####################\n",
    "loadFSL()\n",
    "\n",
    "###################\n",
    "# Load all relevant libraries for the lab\n",
    "##################\n",
    "import fsl.wrappers\n",
    "from fsl.wrappers import fslmaths\n",
    "\n",
    "import mne_nirs\n",
    "import nilearn\n",
    "from nilearn.datasets import fetch_development_fmri\n",
    "\n",
    "import mne\n",
    "import mne_nirs\n",
    "import dipy\n",
    "from dipy.data import fetch_bundles_2_subjects, read_bundles_2_subjects\n",
    "import xml.etree.ElementTree as ET\n",
    "import os.path as op\n",
    "import nibabel as nib\n",
    "import glob\n",
    "\n",
    "!pip install antspyx\n",
    "import ants\n",
    "\n",
    "import openneuro\n",
    "from mne.datasets import sample\n",
    "from mne_bids import BIDSPath, read_raw_bids, print_dir_tree, make_report\n",
    "\n",
    "\n",
    "# Useful imports to define the direct download function below\n",
    "import requests\n",
    "import urllib.request\n",
    "from tqdm import tqdm\n",
    "\n",
    "\n",
    "# FSL function wrappers which we will call from python directly\n",
    "from fsl.wrappers import fast, bet\n",
    "from fsl.wrappers.misc import fslroi\n",
    "from fsl.wrappers import flirt\n",
    "\n",
    "# General purpose imports to handle paths, files etc\n",
    "import glob\n",
    "import pandas as pd\n",
    "import numpy as np\n",
    "import json"
   ]
  },
  {
   "cell_type": "markdown",
   "id": "36de7b91-595d-4006-9964-932bcfe709d4",
   "metadata": {},
   "source": [
    "## Usefull functions"
   ]
  },
  {
   "cell_type": "code",
   "execution_count": 2,
   "id": "84518f39-9881-4105-a298-56688c4f9490",
   "metadata": {},
   "outputs": [],
   "source": [
    "class DownloadProgressBar(tqdm):\n",
    "    def update_to(self, b=1, bsize=1, tsize=None):\n",
    "        if tsize is not None:\n",
    "            self.total = tsize\n",
    "        self.update(b * bsize - self.n)\n",
    "\n",
    "def download_url(url, output_path):\n",
    "    with DownloadProgressBar(unit='B', unit_scale=True,\n",
    "                             miniters=1, desc=url.split('/')[-1]) as t:\n",
    "        urllib.request.urlretrieve(url, filename=output_path, reporthook=t.update_to)\n",
    "\n",
    "def direct_file_download_open_neuro(file_list, file_types, dataset_id, dataset_version, save_dirs):\n",
    "    # https://openneuro.org/crn/datasets/ds004226/snapshots/1.0.0/files/sub-001:sub-001_scans.tsv\n",
    "    for i, n in enumerate(file_list):\n",
    "        subject = n.split('_')[0]\n",
    "        download_link = 'https://openneuro.org/crn/datasets/{}/snapshots/{}/files/{}:{}:{}'.format(dataset_id, dataset_version, subject, file_types[i],n)\n",
    "        print('Attempting download from ', download_link)\n",
    "        download_url(download_link, op.join(save_dirs[i], n))\n",
    "        print('Ok')\n",
    "        \n",
    "def get_json_from_file(fname):\n",
    "    f = open(fname)\n",
    "    data = json.load(f)\n",
    "    f.close()\n",
    "    return data"
   ]
  },
  {
   "cell_type": "code",
   "execution_count": 3,
   "id": "91ee142b-107a-48c7-b892-5e006569b652",
   "metadata": {
    "scrolled": true
   },
   "outputs": [
    {
     "name": "stderr",
     "output_type": "stream",
     "text": [
      "14:56:57: Debug: Adding duplicate image handler for 'Windows bitmap file'\n",
      "14:56:57: Debug: Adding duplicate animation handler for '1' type\n",
      "14:56:57: Debug: Adding duplicate animation handler for '2' type\n",
      "14:56:57: Debug: Adding duplicate image handler for 'Windows bitmap file'\n",
      "14:56:57: Debug: Adding duplicate animation handler for '1' type\n",
      "14:56:57: Debug: Adding duplicate animation handler for '2' type\n",
      "\n",
      "(ipykernel_launcher.py:12660): Gtk-CRITICAL **: 14:56:57.930: gtk_window_resize: assertion 'height > 0' failed\n"
     ]
    }
   ],
   "source": [
    "###############\n",
    "# Start FSLeyes (very neat tool to visualize MRI data of all sorts) within Python\n",
    "################\n",
    "loadFSL()\n",
    "fsleyesDisplay = FSLeyesServer()\n",
    "fsleyesDisplay.show()"
   ]
  },
  {
   "cell_type": "markdown",
   "id": "bc1f6c62-9cb7-4727-a399-2ca0411af53c",
   "metadata": {},
   "source": [
    "# Visualization of the data in FSL"
   ]
  },
  {
   "cell_type": "code",
   "execution_count": 5,
   "id": "79e7ee6b-a81a-4cdb-bd1f-fdbf96053501",
   "metadata": {},
   "outputs": [],
   "source": [
    "fsleyesDisplay.load(op.expandvars('/home/jovyan/data/NeuralSignalsANDSignalProcessing/NSSPMini_Project1/data/T1w/T1w'))"
   ]
  },
  {
   "cell_type": "code",
   "execution_count": 7,
   "id": "008c31b5-0077-493d-8a04-cf575a100132",
   "metadata": {},
   "outputs": [],
   "source": [
    "fsleyesDisplay.resetOverlays()\n",
    "fsleyesDisplay.load(op.expandvars('/home/jovyan/data/NeuralSignalsANDSignalProcessing/NSSPMini_Project1/data/fMRI/tfMRI_MOTOR_LR/tfMRI_MOTOR_LR'))"
   ]
  },
  {
   "cell_type": "code",
   "execution_count": 8,
   "id": "a5ac4d8e-fe11-4611-929c-b87e4b18bdc8",
   "metadata": {},
   "outputs": [],
   "source": [
    "fsleyesDisplay.resetOverlays()\n",
    "fsleyesDisplay.load(op.expandvars('/home/jovyan/data/NeuralSignalsANDSignalProcessing/NSSPMini_Project1/data/fMRI/tfMRI_MOTOR_RL/tfMRI_MOTOR_RL'))"
   ]
  },
  {
   "cell_type": "markdown",
   "id": "962e0a3a-dba6-4711-8f91-16d1f15c8959",
   "metadata": {},
   "source": [
    "# Use BIDS standard"
   ]
  },
  {
   "cell_type": "code",
   "execution_count": 4,
   "id": "0252e69b-fe1b-4a4d-a1c7-d5719afefd44",
   "metadata": {},
   "outputs": [],
   "source": [
    "dataset_id = 'subject101410'\n",
    "subject = '101410' \n",
    "\n",
    "sample_path = \"/home/jovyan/data/NeuralSignalsANDSignalProcessing/NSSPMini_Project1/data\"\n",
    "mkdir_no_exist(sample_path)\n",
    "bids_root = op.join(sample_path, dataset_id)\n",
    "deriv_root = op.join(bids_root, 'derivatives')\n",
    "preproc_root = op.join(bids_root, 'derivatives','preprocessed_data')\n",
    "\n",
    "subject_dir = 'sub-{}'.format(subject)\n",
    "\n",
    "anat_dir = op.join(bids_root,subject_dir,\"anat\")\n",
    "func_dir = op.join(bids_root,subject_dir,\"func\")"
   ]
  },
  {
   "cell_type": "markdown",
   "id": "5da5396b-b4da-4ef3-9659-778be3968d9a",
   "metadata": {},
   "source": [
    "#### TO RUN ONLY IF YOU DON'T HAVE THE STRUCTURE"
   ]
  },
  {
   "cell_type": "code",
   "execution_count": 16,
   "id": "4953c436-c4f0-4982-aaa5-7268f8591d40",
   "metadata": {},
   "outputs": [],
   "source": [
    "mkdir_no_exist(bids_root)\n",
    "\n",
    "###################\n",
    "# Create folders relevant for preprocessing.\n",
    "# In BIDs, ANYTHING we modify must go in the derivatives folder, to keep original files clean in case we make a mistake.\n",
    "###################\n",
    "mkdir_no_exist(op.join(bids_root, 'derivatives'))\n",
    "preproc_root = op.join(bids_root, 'derivatives','preprocessed_data')\n",
    "mkdir_no_exist(preproc_root)\n",
    "mkdir_no_exist(op.join(preproc_root, 'sub-101410'))\n",
    "mkdir_no_exist(op.join(preproc_root, 'sub-101410', 'anat'))\n",
    "mkdir_no_exist(op.join(preproc_root, 'sub-101410', 'func'))\n",
    "mkdir_no_exist(op.join(preproc_root, 'sub-101410', 'fmap'))"
   ]
  },
  {
   "cell_type": "code",
   "execution_count": 18,
   "id": "61e220ae-5deb-4ba5-a884-b6dbe8729b9f",
   "metadata": {},
   "outputs": [
    {
     "name": "stdout",
     "output_type": "stream",
     "text": [
      "|subject101410/\n",
      "|--- T1w/\n",
      "|------ T1w.nii.gz\n",
      "|--- derivatives/\n",
      "|------ preprocessed_data/\n",
      "|--------- sub-101410/\n",
      "|------------ anat/\n",
      "|------------ fmap/\n",
      "|------------ func/\n",
      "|--- fMRI/\n",
      "|------ tfMRI_MOTOR_LR/\n",
      "|--------- events_LR.csv\n",
      "|--------- tfMRI_MOTOR_LR.nii\n",
      "|------ tfMRI_MOTOR_RL/\n",
      "|--------- events_RL.csv\n",
      "|--------- tfMRI_MOTOR_RL.nii\n",
      "|--- sub-101410/\n",
      "|------ anat/\n",
      "|------ func/\n"
     ]
    }
   ],
   "source": [
    "print_dir_tree(bids_root, max_depth=5)"
   ]
  },
  {
   "cell_type": "markdown",
   "id": "ef89e2e3-f014-476c-a186-86be9601da4f",
   "metadata": {},
   "source": [
    "#### Now, we have to place the files we have downloaded before in the good directories according to the BIDS standard\n",
    "#### TO RUN ONLY IF YOU DON'T HAVE THE STRUCTURE"
   ]
  },
  {
   "cell_type": "code",
   "execution_count": 19,
   "id": "bd4e85e5-a03d-4a0d-9548-9385dcfac39d",
   "metadata": {},
   "outputs": [],
   "source": [
    "import shutil\n",
    "\n",
    "# Create the anat and func folders\n",
    "os.makedirs(anat_dir, exist_ok=True)\n",
    "os.makedirs(func_dir, exist_ok=True)\n",
    "\n",
    "anat_src = op.join(bids_root, \"T1w\", \"T1w.nii.gz\")\n",
    "func_root = op.join(bids_root, \"fMRI\")\n",
    "\n",
    "# Déplacer et renommer le T1w\n",
    "anat_dest = op.join(anat_dir, f\"sub-{subject}_T1w.nii.gz\")\n",
    "shutil.copy(anat_src, anat_dest)\n",
    "\n",
    "# Gérer les deux runs fMRI (LR et RL)\n",
    "fmri_tasks = {\n",
    "    \"tfMRI_MOTOR_LR\": \"motorLR\",\n",
    "    \"tfMRI_MOTOR_RL\": \"motorRL\"\n",
    "}\n",
    "\n",
    "for folder, task_name in fmri_tasks.items():\n",
    "    func_path = op.join(func_root, folder)\n",
    "    bold_src = op.join(func_path, f\"{folder}.nii\")\n",
    "    events_src = op.join(func_path, f\"events_{folder.split('_')[-1]}.csv\")\n",
    "\n",
    "    bold_dest = op.join(func_dir, f\"sub-{subject}_task-{task_name}_bold.nii\")\n",
    "    events_dest = op.join(func_dir, f\"sub-{subject}_task-{task_name}_events.tsv\")\n",
    "\n",
    "    shutil.copy(bold_src, bold_dest)\n",
    "    shutil.copy(events_src, events_dest)"
   ]
  },
  {
   "cell_type": "code",
   "execution_count": 22,
   "id": "047bb448-87d0-442a-bc7f-7f7073d52fed",
   "metadata": {},
   "outputs": [
    {
     "name": "stdout",
     "output_type": "stream",
     "text": [
      "|subject101410/\n",
      "|--- T1w/\n",
      "|------ T1w.nii.gz\n",
      "|--- derivatives/\n",
      "|------ preprocessed_data/\n",
      "|--------- sub-101410/\n",
      "|------------ anat/\n",
      "|------------ fmap/\n",
      "|------------ func/\n",
      "|--- fMRI/\n",
      "|------ tfMRI_MOTOR_LR/\n",
      "|--------- events_LR.csv\n",
      "|--------- tfMRI_MOTOR_LR.nii\n",
      "|------ tfMRI_MOTOR_RL/\n",
      "|--------- events_RL.csv\n",
      "|--------- tfMRI_MOTOR_RL.nii\n",
      "|--- sub-101410/\n",
      "|------ anat/\n",
      "|--------- sub-101410_T1w.nii.gz\n",
      "|------ func/\n",
      "|--------- sub-101410_task-motorLR_bold.nii\n",
      "|--------- sub-101410_task-motorLR_events.tsv\n",
      "|--------- sub-101410_task-motorRL_bold.nii\n",
      "|--------- sub-101410_task-motorRL_events.tsv\n"
     ]
    }
   ],
   "source": [
    "print_dir_tree(bids_root, max_depth=4)"
   ]
  },
  {
   "cell_type": "markdown",
   "id": "58c8a93f-4b6b-49aa-ad67-4b3447bdd4d8",
   "metadata": {},
   "source": [
    "#### Nice! All the files are at the right place with the right name (we don't need the T1w and fMRI folders anymore)"
   ]
  },
  {
   "cell_type": "markdown",
   "id": "cb077653-e280-48e7-9595-87781bf127f5",
   "metadata": {},
   "source": [
    "# 1. structural preprocessing"
   ]
  },
  {
   "cell_type": "markdown",
   "id": "c0008b28-09e7-4a74-b0ee-e988844c56cb",
   "metadata": {},
   "source": [
    "## Skull-Stripping"
   ]
  },
  {
   "cell_type": "code",
   "execution_count": 23,
   "id": "f9eb3238-2866-4a8d-af3c-af6027547e17",
   "metadata": {},
   "outputs": [
    {
     "name": "stdout",
     "output_type": "stream",
     "text": [
      "Done with BET.\n"
     ]
    }
   ],
   "source": [
    "def get_skull_stripped_anatomical(bids_root, preproc_root, subject_id, robust=False):\n",
    "    \"\"\"\n",
    "    Function to perform skull-stripping (removing the skull around the brain).\n",
    "    This is a simple wrapper around the brain extraction tool (BET) in FSL's suite\n",
    "    It assumes data to be in the BIDS format (which we will cover in the following weeks).\n",
    "    The method also saves the brain mask which was used to extract the brain.\n",
    "\n",
    "    The brain extraction is conducted only on the T1w of the participant.\n",
    "\n",
    "    Parameters\n",
    "    ----------\n",
    "    bids_root: string\n",
    "        The root of the BIDS directory\n",
    "    preproc_root: string\n",
    "        The root of the preprocessed data, where the result of the brain extraction will be saved.\n",
    "    subject_id: string\n",
    "        Subject ID, the subject on which brain extraction should be conducted.\n",
    "    robust: bool\n",
    "        Whether to conduct robust center estimation with BET or not. Default is False.\n",
    "    \"\"\"\n",
    "    # We perform here skull stripping (you'll learn more about it next week!).\n",
    "    # For now all you need to do is that we remove the bones and flesh from the MRI to get the brain!\n",
    "    subject = 'sub-{}'.format(subject_id)\n",
    "    anatomical_path = op.join(bids_root, subject, 'anat', 'sub-{}_T1w.nii.gz'.format(subject_id))\n",
    "    betted_brain_path = op.join(preproc_root, subject, 'anat', 'sub-{}_T1w'.format(subject_id))\n",
    "    os.system('bet {} {} -m {}'.format(anatomical_path, betted_brain_path, '-R' if robust else ''))\n",
    "    print(\"Done with BET.\")\n",
    "\n",
    "resulting_mask_path = op.join(preproc_root, 'sub-101410', 'anat', 'sub-101410_T1w_mask')\n",
    "get_skull_stripped_anatomical(bids_root, preproc_root, \"101410\", robust = True)  # To improve the fit"
   ]
  },
  {
   "cell_type": "code",
   "execution_count": 24,
   "id": "063a76c1-0c6c-42b5-a0b9-64171061cc0b",
   "metadata": {},
   "outputs": [],
   "source": [
    "fsleyesDisplay.resetOverlays()\n",
    "fsleyesDisplay.load(op.join(anat_dir,\"sub-101410_T1w\"))\n",
    "fsleyesDisplay.load(resulting_mask_path)"
   ]
  },
  {
   "cell_type": "markdown",
   "id": "20831830-74f1-4e74-a72a-5374da585acc",
   "metadata": {},
   "source": [
    "#### Look how good the mask fits the brain. Do manual correction in FSL if needed (see Lab 2)"
   ]
  },
  {
   "cell_type": "markdown",
   "id": "a95d3e1f-8ed0-445c-af4d-a58ab4898012",
   "metadata": {},
   "source": [
    "### Applying the mask"
   ]
  },
  {
   "cell_type": "code",
   "execution_count": 25,
   "id": "edf6a969-cade-43ea-8311-a719081b4037",
   "metadata": {},
   "outputs": [],
   "source": [
    "def apply_fsl_math_approach(img_path, mask_path, masked_img_path):\n",
    "    ###########################\n",
    "    # Solution\n",
    "    # By reading fslmaths documentation, one can see that the -mas option is exactly what we desire.\n",
    "    ###########################\n",
    "    os.system('fslmaths {} -mas {} {}'.format(img_path, mask_path, masked_img_path))\n",
    "    \n",
    "\n",
    "anatomical_path = op.join(bids_root, 'sub-101410', 'anat', 'sub-101410_T1w.nii.gz') # The original brain\n",
    "betted_brain_path = op.join(preproc_root, 'sub-101410', 'anat', 'sub-101410_T1w.nii.gz') # The brain without skull is in the derivatives folder\n",
    "resulting_mask_path = op.join(preproc_root, 'sub-101410', 'anat', 'sub-101410_T1w_mask.nii.gz') # The mask to use\n",
    "\n",
    "########################\n",
    "apply_fsl_math_approach(anatomical_path, resulting_mask_path, betted_brain_path)"
   ]
  },
  {
   "cell_type": "code",
   "execution_count": 26,
   "id": "ce109e4c-962c-47af-b188-66b850af163a",
   "metadata": {},
   "outputs": [],
   "source": [
    "#fsleyesDisplay.resetOverlays()\n",
    "fsleyesDisplay.load(betted_brain_path)"
   ]
  },
  {
   "cell_type": "markdown",
   "id": "2457c5a1-46af-4113-b783-2b1163f0f946",
   "metadata": {},
   "source": [
    "## Segmentation"
   ]
  },
  {
   "cell_type": "markdown",
   "id": "f9f12758-f9be-4b58-98a4-cda83b4f4f6f",
   "metadata": {},
   "source": [
    "Takes a long time to run"
   ]
  },
  {
   "cell_type": "code",
   "execution_count": 27,
   "id": "6ba3c8bc-7a15-4bc7-8ad0-0f59bb5e14d6",
   "metadata": {},
   "outputs": [
    {
     "data": {
      "text/plain": [
       "{}"
      ]
     },
     "execution_count": 27,
     "metadata": {},
     "output_type": "execute_result"
    }
   ],
   "source": [
    "anatomical_path = op.join(bids_root, 'sub-101410', 'anat', 'sub-101410_T1w.nii.gz')\n",
    "bet_path = op.join(preproc_root, 'sub-101410', 'anat', 'sub-101410_T1w')\n",
    "\n",
    "#########################\n",
    "# We must apply FAST to the brain-extracted image. Thus we must use the BET path brain.\n",
    "##########################\n",
    "fast_target = bet_path \n",
    "\n",
    "[os.remove(f) for f in glob.glob(op.join(preproc_root, 'sub-101410', 'anat', '*fast*'))] # Just to clean the directory in between runs of the cell\n",
    "segmentation_path = op.join(preproc_root, 'sub-101410', 'anat', 'sub-101410_T1w_fast')\n",
    "fast(imgs=[fast_target], out=segmentation_path, n_classes=3)"
   ]
  },
  {
   "cell_type": "code",
   "execution_count": 28,
   "id": "cb0363ce-085f-4dc7-b4bb-46ca5d906fa1",
   "metadata": {},
   "outputs": [
    {
     "name": "stdout",
     "output_type": "stream",
     "text": [
      "|subject101410/\n",
      "|--- T1w/\n",
      "|------ T1w.nii.gz\n",
      "|--- derivatives/\n",
      "|------ preprocessed_data/\n",
      "|--------- sub-101410/\n",
      "|------------ anat/\n",
      "|--------------- sub-101410_T1w.nii.gz\n",
      "|--------------- sub-101410_T1w_fast_mixeltype.nii.gz\n",
      "|--------------- sub-101410_T1w_fast_pve_0.nii.gz\n",
      "|--------------- sub-101410_T1w_fast_pve_1.nii.gz\n",
      "|--------------- sub-101410_T1w_fast_pve_2.nii.gz\n",
      "|--------------- sub-101410_T1w_fast_pveseg.nii.gz\n",
      "|--------------- sub-101410_T1w_fast_seg.nii.gz\n",
      "|--------------- sub-101410_T1w_mask.nii.gz\n",
      "|------------ fmap/\n",
      "|------------ func/\n",
      "|--- sub-101410/\n",
      "|------ anat/\n",
      "|--------- sub-101410_T1w.nii.gz\n",
      "|------ func/\n",
      "|--------- sub-101410_task-motorLR_bold.nii\n",
      "|--------- sub-101410_task-motorLR_events.tsv\n",
      "|--------- sub-101410_task-motorRL_bold.nii\n",
      "|--------- sub-101410_task-motorRL_events.tsv\n"
     ]
    }
   ],
   "source": [
    "print_dir_tree(bids_root, max_depth=5)"
   ]
  },
  {
   "cell_type": "markdown",
   "id": "aa0e7242-76a0-4765-92c1-a860e88dab66",
   "metadata": {},
   "source": [
    "The pve files correspond to our segmented tissues. We have exactly three files, because we set n_classes to 3 above:\n",
    "```python\n",
    "fast(..., n_classes=3)\n",
    "```\n",
    "\n",
    "Let's try to identify which segmentation is which tissue type in the brain. To do this, you'll have to visualize the tissues and decide for yourself."
   ]
  },
  {
   "cell_type": "markdown",
   "id": "3b697562-cb79-499b-9cdd-c2d9b20980ca",
   "metadata": {},
   "source": [
    "To make it easier on you, we will display:\n",
    "\n",
    "- pve_0 in <span style=\"color:red;\">red</span> --> cerebrospinal fluid\n",
    "- pve_1 in <span style=\"color:green;\">green</span> --> grey matter\n",
    "- pve_2 in <span style=\"color:blue;\">blue</span> --> white matter"
   ]
  },
  {
   "cell_type": "code",
   "execution_count": 20,
   "id": "49a693fe-2974-4d4e-8c26-491fd9beb482",
   "metadata": {},
   "outputs": [],
   "source": [
    "fsleyesDisplay.resetOverlays()\n",
    "fsleyesDisplay.load(bet_path)\n",
    "fsleyesDisplay.load(glob.glob(op.join(preproc_root, 'sub-101410', 'anat','*pve_0*'))[0])\n",
    "fsleyesDisplay.load(glob.glob(op.join(preproc_root, 'sub-101410', 'anat','*pve_1*'))[0])\n",
    "fsleyesDisplay.load(glob.glob(op.join(preproc_root, 'sub-101410', 'anat','*pve_2*'))[0])\n",
    "fsleyesDisplay.displayCtx.getOpts(fsleyesDisplay.overlayList[1]).cmap = 'Red'\n",
    "fsleyesDisplay.displayCtx.getOpts(fsleyesDisplay.overlayList[2]).cmap = 'Green'\n",
    "fsleyesDisplay.displayCtx.getOpts(fsleyesDisplay.overlayList[3]).cmap = 'Blue'"
   ]
  },
  {
   "cell_type": "markdown",
   "id": "e0784b1c-bf2e-4def-a62d-206415e7b8bc",
   "metadata": {},
   "source": [
    "# 2. Functional preprocessing"
   ]
  },
  {
   "cell_type": "code",
   "execution_count": 29,
   "id": "573100a3-1148-4880-b6ac-cbe04a617868",
   "metadata": {
    "scrolled": true
   },
   "outputs": [],
   "source": [
    "fsleyesDisplay.resetOverlays()\n",
    "fsleyesDisplay.load(op.join(func_dir,\"sub-101410_task-motorLR_bold\"))"
   ]
  },
  {
   "cell_type": "markdown",
   "id": "56a43f28-a7c8-4494-b6e4-3cbac3207b16",
   "metadata": {},
   "source": [
    "## Concatenating"
   ]
  },
  {
   "cell_type": "markdown",
   "id": "459c9ffe-ec78-4275-97b0-d257030b0ba9",
   "metadata": {},
   "source": [
    "Before merging both runs together, we want to rescale them. The reason is that different runs can have different overall signal intensities or variances, because of: scanner gain or baseline drift, physiological noise changes or small differences in acquisition or head position. "
   ]
  },
  {
   "cell_type": "code",
   "execution_count": 11,
   "id": "ea2125cb-2b42-4789-8ad4-2bb107a41133",
   "metadata": {},
   "outputs": [],
   "source": [
    "import os\n",
    "import numpy as np\n",
    "import nibabel as nib\n",
    "import pandas as pd\n",
    "from nilearn.image import concat_imgs, new_img_like\n",
    "import matplotlib.pyplot as plt\n",
    "\n",
    "# Raw fMRI runs\n",
    "runs_info = [\n",
    "    ('sub-101410_task-motorLR', 'sub-101410_task-motorLR_bold.nii', 'sub-101410_task-motorLR_events.tsv'),\n",
    "    ('sub-101410_task-motorRL', 'sub-101410_task-motorRL_bold.nii', 'sub-101410_task-motorRL_events.tsv')\n",
    "]\n",
    "\n",
    "# Output folder for preprocessed/scaled runs\n",
    "output_dir = os.path.join(preproc_root, 'sub-101410', 'func')\n",
    "os.makedirs(output_dir, exist_ok=True)\n",
    "\n",
    "concatenated_imgs = []\n",
    "concatenated_events = []\n",
    "\n",
    "total_duration = 0  # time offset accumulator for concatenation\n",
    "TR = 0.72\n",
    "\n",
    "for run_name, run_file, events_file in runs_info:\n",
    "    run_path = os.path.join(bids_root, 'sub-101410', 'func', run_file)\n",
    "    events_path = os.path.join(bids_root, 'sub-101410', 'func', events_file)\n",
    "\n",
    "    # ----- Load & scale image -----\n",
    "    img = nib.load(run_path)\n",
    "    data = img.get_fdata(dtype=np.float32)\n",
    "    \n",
    "    # Brain mask and scaling\n",
    "    brain_mask = data > 0\n",
    "    global_var = np.var(data[brain_mask], dtype=np.float64)\n",
    "    scaled_data = data / np.sqrt(global_var)\n",
    "    del data\n",
    "    \n",
    "    new_img = new_img_like(img, scaled_data)\n",
    "    concatenated_imgs.append(new_img)\n",
    "    del scaled_data\n",
    "\n",
    "    # ----- Load & shift events -----\n",
    "    events = pd.read_csv(events_path, sep=\",\")\n",
    "\n",
    "    # determine run duration in seconds\n",
    "    n_volumes = img.shape[3]\n",
    "    run_duration = n_volumes * TR + 0.02\n",
    "\n",
    "    # shift onsets by total_duration so events align with concatenated fMRI\n",
    "    events['onset'] = events['onset'] + total_duration\n",
    "\n",
    "    concatenated_events.append(events)\n",
    "\n",
    "    # update for next run\n",
    "    total_duration += run_duration\n",
    "\n",
    "\n",
    "# ----- Save concatenated NIfTI -----\n",
    "concat_img = concat_imgs(concatenated_imgs)\n",
    "concat_img.to_filename(os.path.join(output_dir, 'sub-101410_task-motor_concat.nii.gz'))\n",
    "\n",
    "# ----- Save concatenated events -----\n",
    "merged_events = pd.concat(concatenated_events, ignore_index=True)\n",
    "merged_events.to_csv(os.path.join(output_dir, 'sub-101410_task-motor_concat_events.tsv'), sep=\"\\t\", index=False)\n"
   ]
  },
  {
   "cell_type": "markdown",
   "id": "0b405e80-633b-4584-9acd-63e4a41923ad",
   "metadata": {},
   "source": [
    "We have now merged the two runs of both the .nii files and the event files (needed for the GLM later on)."
   ]
  },
  {
   "cell_type": "code",
   "execution_count": 33,
   "id": "635b252a-4dd0-4ef6-b5fb-cf96db2ed388",
   "metadata": {},
   "outputs": [],
   "source": [
    "concat_path = os.path.join(preproc_root, 'sub-101410', 'func', 'sub-101410_task-motor_concat.nii.gz')\n",
    "fsleyesDisplay.resetOverlays()\n",
    "fsleyesDisplay.load(concat_path)"
   ]
  },
  {
   "cell_type": "code",
   "execution_count": 5,
   "id": "51d731c5-2192-4c0c-a80d-b79fb279d63c",
   "metadata": {},
   "outputs": [
    {
     "data": {
      "text/plain": [
       "Text(0, 0.5, 'Mean voxel intensity')"
      ]
     },
     "execution_count": 5,
     "metadata": {},
     "output_type": "execute_result"
    },
    {
     "data": {
      "image/png": "[encoded data removed]",
      "text/plain": [
       "<Figure size 640x480 with 1 Axes>"
      ]
     },
     "metadata": {},
     "output_type": "display_data"
    }
   ],
   "source": [
    "import matplotlib.pyplot as plt\n",
    "import nibabel as nib\n",
    "import os.path as op\n",
    "\n",
    "mean = nib.load(op.join(preproc_root, 'sub-101410', 'func', 'sub-101410_task-motor_concat.nii.gz')).get_fdata().mean(axis=(0,1,2))\n",
    "\n",
    "plt.plot(mean)\n",
    "plt.title('Merged runs (first LR, then RL) after rescaling seperately')\n",
    "plt.xlabel('Time (volume)')\n",
    "plt.ylabel('Mean voxel intensity')"
   ]
  },
  {
   "cell_type": "markdown",
   "id": "5448feed-06fa-47a1-a9f2-e62796466a06",
   "metadata": {},
   "source": [
    "In the mean voxel intensity plot above we can distinctly separate between the two runs (LR and RL). The jump betweeen them is roughly 0.03"
   ]
  },
  {
   "cell_type": "markdown",
   "id": "55a94ff9-c036-47d5-9468-8c382d64b72e",
   "metadata": {},
   "source": [
    "## Motion correction"
   ]
  },
  {
   "cell_type": "markdown",
   "id": "6874fe73-ae5a-4417-aa90-20dca927ef27",
   "metadata": {},
   "source": [
    "Attention: By default, MCFLIRT selects the middle volume of the EPI serie as reference to which other volumes are realigned."
   ]
  },
  {
   "cell_type": "code",
   "execution_count": 9,
   "id": "3f7589e8-2a7e-4faa-9d16-830946b6c758",
   "metadata": {},
   "outputs": [
    {
     "name": "stderr",
     "output_type": "stream",
     "text": [
      "Processed data will be saved as /home/jovyan/data/NeuralSignalsANDSignalProcessing/NSSPMini_Project1/data/subject101410/derivatives/preprocessed_data/sub-101410/func/sub-101410_task-motor_concat_moco\n",
      "\n",
      "McFLIRT v 2.0 - FMRI motion correction\n",
      "\n",
      "Reading time series... \n",
      "first iteration - 8mm scaling, set tolerance\n",
      "Rescaling reference volume [284] to 8 mm pixels\n",
      "Registering volumes ... [285][286][287][288][289][290][291][292][293][294][295][296][297][298][299][300][301][302][303][304][305][306][307][308][309][310][311][312][313][314][315][316][317][318][319][320][321][322][323][324][325][326][327][328][329][330][331][332][333][334][335][336][337][338][339][340][341][342][343][344][345][346][347][348][349][350][351][352][353][354][355][356][357][358][359][360][361][362][363][364][365][366][367][368][369][370][371][372][373][374][375][376][377][378][379][380][381][382][383][384][385][386][387][388][389][390][391][392][393][394][395][396][397][398][399][400][401][402][403][404][405][406][407][408][409][410][411][412][413][414][415][416][417][418][419][420][421][422][423][424][425][426][427][428][429][430][431][432][433][434][435][436][437][438][439][440][441][442][443][444][445][446][447][448][449][450][451][452][453][454][455][456][457][458][459][460][461][462][463][464][465][466][467][468][469][470][471][472][473][474][475][476][477][478][479][480][481][482][483][484][485][486][487][488][489][490][491][492][493][494][495][496][497][498][499][500][501][502][503][504][505][506][507][508][509][510][511][512][513][514][515][516][517][518][519][520][521][522][523][524][525][526][527][528][529][530][531][532][533][534][535][536][537][538][539][540][541][542][543][544][545][546][547][548][549][550][551][552][553][554][555][556][557][558][559][560][561][562][563][564][565][566][567][283][282][281][280][279][278][277][276][275][274][273][272][271][270][269][268][267][266][265][264][263][262][261][260][259][258][257][256][255][254][253][252][251][250][249][248][247][246][245][244][243][242][241][240][239][238][237][236][235][234][233][232][231][230][229][228][227][226][225][224][223][222][221][220][219][218][217][216][215][214][213][212][211][210][209][208][207][206][205][204][203][202][201][200][199][198][197][196][195][194][193][192][191][190][189][188][187][186][185][184][183][182][181][180][179][178][177][176][175][174][173][172][171][170][169][168][167][166][165][164][163][162][161][160][159][158][157][156][155][154][153][152][151][150][149][148][147][146][145][144][143][142][141][140][139][138][137][136][135][134][133][132][131][130][129][128][127][126][125][124][123][122][121][120][119][118][117][116][115][114][113][112][111][110][109][108][107][106][105][104][103][102][101][100][99][98][97][96][95][94][93][92][91][90][89][88][87][86][85][84][83][82][81][80][79][78][77][76][75][74][73][72][71][70][69][68][67][66][65][64][63][62][61][60][59][58][57][56][55][54][53][52][51][50][49][48][47][46][45][44][43][42][41][40][39][38][37][36][35][34][33][32][31][30][29][28][27][26][25][24][23][22][21][20][19][18][17][16][15][14][13][12][11][10][9][8][7][6][5][4][3][2][1][0]\n",
      "second iteration - drop to 4mm scaling\n",
      "Rescaling reference volume [284] to 4 mm pixels\n",
      "Registering volumes ... [285][286][287][288][289][290][291][292][293][294][295][296][297][298][299][300][301][302][303][304][305][306][307][308][309][310][311][312][313][314][315][316][317][318][319][320][321][322][323][324][325][326][327][328][329][330][331][332][333][334][335][336][337][338][339][340][341][342][343][344][345][346][347][348][349][350][351][352][353][354][355][356][357][358][359][360][361][362][363][364][365][366][367][368][369][370][371][372][373][374][375][376][377][378][379][380][381][382][383][384][385][386][387][388][389][390][391][392][393][394][395][396][397][398][399][400][401][402][403][404][405][406][407][408][409][410][411][412][413][414][415][416][417][418][419][420][421][422][423][424][425][426][427][428][429][430][431][432][433][434][435][436][437][438][439][440][441][442][443][444][445][446][447][448][449][450][451][452][453][454][455][456][457][458][459][460][461][462][463][464][465][466][467][468][469][470][471][472][473][474][475][476][477][478][479][480][481][482][483][484][485][486][487][488][489][490][491][492][493][494][495][496][497][498][499][500][501][502][503][504][505][506][507][508][509][510][511][512][513][514][515][516][517][518][519][520][521][522][523][524][525][526][527][528][529][530][531][532][533][534][535][536][537][538][539][540][541][542][543][544][545][546][547][548][549][550][551][552][553][554][555][556][557][558][559][560][561][562][563][564][565][566][567][283][282][281][280][279][278][277][276][275][274][273][272][271][270][269][268][267][266][265][264][263][262][261][260][259][258][257][256][255][254][253][252][251][250][249][248][247][246][245][244][243][242][241][240][239][238][237][236][235][234][233][232][231][230][229][228][227][226][225][224][223][222][221][220][219][218][217][216][215][214][213][212][211][210][209][208][207][206][205][204][203][202][201][200][199][198][197][196][195][194][193][192][191][190][189][188][187][186][185][184][183][182][181][180][179][178][177][176][175][174][173][172][171][170][169][168][167][166][165][164][163][162][161][160][159][158][157][156][155][154][153][152][151][150][149][148][147][146][145][144][143][142][141][140][139][138][137][136][135][134][133][132][131][130][129][128][127][126][125][124][123][122][121][120][119][118][117][116][115][114][113][112][111][110][109][108][107][106][105][104][103][102][101][100][99][98][97][96][95][94][93][92][91][90][89][88][87][86][85][84][83][82][81][80][79][78][77][76][75][74][73][72][71][70][69][68][67][66][65][64][63][62][61][60][59][58][57][56][55][54][53][52][51][50][49][48][47][46][45][44][43][42][41][40][39][38][37][36][35][34][33][32][31][30][29][28][27][26][25][24][23][22][21][20][19][18][17][16][15][14][13][12][11][10][9][8][7][6][5][4][3][2][1][0]\n",
      "third iteration - 4mm scaling, eighth tolerance\n"
     ]
    },
    {
     "name": "stdout",
     "output_type": "stream",
     "text": [
      "refnum = 284\n",
      "Original_refvol = -1\n"
     ]
    },
    {
     "name": "stderr",
     "output_type": "stream",
     "text": [
      "Registering volumes ... [285][286][287][288][289][290][291][292][293][294][295][296][297][298][299][300][301][302][303][304][305][306][307][308][309][310][311][312][313][314][315][316][317][318][319][320][321][322][323][324][325][326][327][328][329][330][331][332][333][334][335][336][337][338][339][340][341][342][343][344][345][346][347][348][349][350][351][352][353][354][355][356][357][358][359][360][361][362][363][364][365][366][367][368][369][370][371][372][373][374][375][376][377][378][379][380][381][382][383][384][385][386][387][388][389][390][391][392][393][394][395][396][397][398][399][400][401][402][403][404][405][406][407][408][409][410][411][412][413][414][415][416][417][418][419][420][421][422][423][424][425][426][427][428][429][430][431][432][433][434][435][436][437][438][439][440][441][442][443][444][445][446][447][448][449][450][451][452][453][454][455][456][457][458][459][460][461][462][463][464][465][466][467][468][469][470][471][472][473][474][475][476][477][478][479][480][481][482][483][484][485][486][487][488][489][490][491][492][493][494][495][496][497][498][499][500][501][502][503][504][505][506][507][508][509][510][511][512][513][514][515][516][517][518][519][520][521][522][523][524][525][526][527][528][529][530][531][532][533][534][535][536][537][538][539][540][541][542][543][544][545][546][547][548][549][550][551][552][553][554][555][556][557][558][559][560][561][562][563][564][565][566][567][283][282][281][280][279][278][277][276][275][274][273][272][271][270][269][268][267][266][265][264][263][262][261][260][259][258][257][256][255][254][253][252][251][250][249][248][247][246][245][244][243][242][241][240][239][238][237][236][235][234][233][232][231][230][229][228][227][226][225][224][223][222][221][220][219][218][217][216][215][214][213][212][211][210][209][208][207][206][205][204][203][202][201][200][199][198][197][196][195][194][193][192][191][190][189][188][187][186][185][184][183][182][181][180][179][178][177][176][175][174][173][172][171][170][169][168][167][166][165][164][163][162][161][160][159][158][157][156][155][154][153][152][151][150][149][148][147][146][145][144][143][142][141][140][139][138][137][136][135][134][133][132][131][130][129][128][127][126][125][124][123][122][121][120][119][118][117][116][115][114][113][112][111][110][109][108][107][106][105][104][103][102][101][100][99][98][97][96][95][94][93][92][91][90][89][88][87][86][85][84][83][82][81][80][79][78][77][76][75][74][73][72][71][70][69][68][67][66][65][64][63][62][61][60][59][58][57][56][55][54][53][52][51][50][49][48][47][46][45][44][43][42][41][40][39][38][37][36][35][34][33][32][31][30][29][28][27][26][25][24][23][22][21][20][19][18][17][16][15][14][13][12][11][10][9][8][7][6][5][4][3][2][1][0]\n",
      "Saving motion corrected time series... \n"
     ]
    },
    {
     "data": {
      "text/plain": [
       "{}"
      ]
     },
     "execution_count": 9,
     "metadata": {},
     "output_type": "execute_result"
    }
   ],
   "source": [
    "from fsl.wrappers import mcflirt\n",
    "\n",
    "path_original_data = op.join(preproc_root, 'sub-101410', 'func', 'sub-101410_task-motor_concat')\n",
    "path_moco_data = os.path.join(preproc_root, 'sub-101410', 'func', 'sub-101410_task-motor_concat_moco')\n",
    "mcflirt(infile=path_original_data,o=path_moco_data, plots=True, report=True, dof=6, mats=True)"
   ]
  },
  {
   "cell_type": "code",
   "execution_count": 10,
   "id": "c67ce8c5-4a01-4e6d-85b6-077535a8d577",
   "metadata": {},
   "outputs": [
    {
     "name": "stderr",
     "output_type": "stream",
     "text": [
      "\n",
      "(ipykernel_launcher.py:4599): Gdk-WARNING **: 10:37:54.647: gdkdrawable-x11.c:952 drawable is not a pixmap or window\n"
     ]
    }
   ],
   "source": [
    "fsleyesDisplay.resetOverlays()\n",
    "fsleyesDisplay.load(path_original_data)\n",
    "fsleyesDisplay.load(path_moco_data)"
   ]
  },
  {
   "cell_type": "code",
   "execution_count": 12,
   "id": "674d16ea-1957-46ee-b19e-743cec3de989",
   "metadata": {},
   "outputs": [
    {
     "data": {
      "image/png": "[encoded data removed]",
      "text/plain": [
       "<Figure size 640x480 with 1 Axes>"
      ]
     },
     "metadata": {},
     "output_type": "display_data"
    }
   ],
   "source": [
    "def load_mot_params_fsl_6_dof(path):\n",
    "    return pd.read_csv(path, sep='  ', header=None, \n",
    "            engine='python', names=['Rotation x', 'Rotation y', 'Rotation z','Translation x', 'Translation y', 'Translation z'])\n",
    "\n",
    "mot_params = load_mot_params_fsl_6_dof(op.join(preproc_root, 'sub-101410', 'func', 'sub-101410_task-motor_concat_moco.par'))\n",
    "\n",
    "# Getting the translation is easy\n",
    "trans_x = mot_params[\"Translation x\"]\n",
    "trans_y = mot_params[\"Translation y\"]\n",
    "trans_z = mot_params[\"Translation z\"]\n",
    "# Now, we want a 0.2mm with respect to previous frame:\n",
    "disp_x = np.diff(trans_x)\n",
    "disp_y = np.diff(trans_y)\n",
    "disp_z = np.diff(trans_z)\n",
    "# Lastly, we can ask for displacements (in absolute value) above 0.2mm and plot it to be clear:\n",
    "threshold=0.1\n",
    "plt.plot(np.abs(disp_x), 'r', label='x translation')\n",
    "plt.plot(np.abs(disp_y), 'b', label='y translation')\n",
    "plt.plot(np.abs(disp_z), 'g', label='z translation')\n",
    "\n",
    "plt.legend()\n",
    "\n",
    "plt.hlines(threshold, 0, 600,colors='black', linestyles='dashed', label='FD threshold')\n",
    "plt.xlabel(\"Volumes\")\n",
    "plt.ylabel(\"Framewise translation displacement (mm)\")\n",
    "plt.title(\"Translations for merged runs\")\n",
    "plt.show()"
   ]
  },
  {
   "cell_type": "markdown",
   "id": "91b2020f-29d2-4158-814e-7effae62da66",
   "metadata": {},
   "source": [
    "By observing the translation plot, we can clearly see the big jump from run LR to run RL. This shows us, that the reference image chosen by MCFLIRT must be part of the first run (LR)."
   ]
  },
  {
   "cell_type": "markdown",
   "id": "d0149809-535d-407d-b13c-f8cc46c91a8d",
   "metadata": {},
   "source": [
    "## Gaussian smoothing"
   ]
  },
  {
   "cell_type": "markdown",
   "id": "52b92fbb-ea74-4739-9380-b7490a74790d",
   "metadata": {},
   "source": [
    "I am unsure on how to determine the size of our filter. Currently it is 6 mm"
   ]
  },
  {
   "cell_type": "code",
   "execution_count": 10,
   "id": "52760353-bb7c-4fa1-9977-5cdd21800be4",
   "metadata": {},
   "outputs": [
    {
     "data": {
      "text/plain": [
       "CompletedProcess(args=['fslmaths', '/home/jovyan/data/NeuralSignalsANDSignalProcessing/NSSPMini_Project1/data/subject101410/derivatives/preprocessed_data/sub-101410/func/sub-101410_task-motor_concat_moco', '-s', '2.547987090198743', '/home/jovyan/data/NeuralSignalsANDSignalProcessing/NSSPMini_Project1/data/subject101410/derivatives/preprocessed_data/sub-101410/func/sub-101410_task-motor_concat_moco_smoothed-6mm'], returncode=0)"
      ]
     },
     "execution_count": 10,
     "metadata": {},
     "output_type": "execute_result"
    }
   ],
   "source": [
    "import subprocess\n",
    "output_path = op.join(preproc_root, 'sub-101410', 'func', 'sub-101410_task-motor_concat_moco')\n",
    "\n",
    "cmd = 'fslmaths {} -s {} {}_smoothed-6mm'.format(output_path, 6/2.3548, output_path)\n",
    "subprocess.run(['fslmaths',output_path, '-s', str(6/2.3548), '{}_smoothed-6mm'.format(output_path)])"
   ]
  },
  {
   "cell_type": "code",
   "execution_count": 11,
   "id": "95fbdc37-4449-4cb3-babd-46668e767532",
   "metadata": {},
   "outputs": [],
   "source": [
    "smoothed_path = op.join(preproc_root, 'sub-101410', 'func', 'sub-101410_task-motor_concat_moco_smoothed-6mm')\n",
    "fsleyesDisplay.resetOverlays()\n",
    "fsleyesDisplay.load(output_path)\n",
    "fsleyesDisplay.load(smoothed_path)"
   ]
  },
  {
   "cell_type": "markdown",
   "id": "af8e6b86-0ea0-4f5d-9aab-48c7a5ea7cd0",
   "metadata": {},
   "source": [
    "# 3. GLM"
   ]
  },
  {
   "cell_type": "code",
   "execution_count": 6,
   "id": "13092f37-9f6e-457a-ba8e-c4240398f280",
   "metadata": {},
   "outputs": [
    {
     "name": "stdout",
     "output_type": "stream",
     "text": [
      "Index(['onset', 'duration', 'condition'], dtype='object')\n"
     ]
    },
    {
     "data": {
      "text/html": [
       "<div>\n",
       "<style scoped>\n",
       "    .dataframe tbody tr th:only-of-type {\n",
       "        vertical-align: middle;\n",
       "    }\n",
       "\n",
       "    .dataframe tbody tr th {\n",
       "        vertical-align: top;\n",
       "    }\n",
       "\n",
       "    .dataframe thead th {\n",
       "        text-align: right;\n",
       "    }\n",
       "</style>\n",
       "<table border=\"1\" class=\"dataframe\">\n",
       "  <thead>\n",
       "    <tr style=\"text-align: right;\">\n",
       "      <th></th>\n",
       "      <th>onset</th>\n",
       "      <th>duration</th>\n",
       "      <th>condition</th>\n",
       "    </tr>\n",
       "  </thead>\n",
       "  <tbody>\n",
       "    <tr>\n",
       "      <th>0</th>\n",
       "      <td>0.0</td>\n",
       "      <td>8.0</td>\n",
       "      <td>NaN</td>\n",
       "    </tr>\n",
       "    <tr>\n",
       "      <th>1</th>\n",
       "      <td>8.0</td>\n",
       "      <td>3.0</td>\n",
       "      <td>cue</td>\n",
       "    </tr>\n",
       "    <tr>\n",
       "      <th>2</th>\n",
       "      <td>11.0</td>\n",
       "      <td>12.0</td>\n",
       "      <td>rh</td>\n",
       "    </tr>\n",
       "    <tr>\n",
       "      <th>3</th>\n",
       "      <td>23.0</td>\n",
       "      <td>3.0</td>\n",
       "      <td>cue</td>\n",
       "    </tr>\n",
       "    <tr>\n",
       "      <th>4</th>\n",
       "      <td>26.0</td>\n",
       "      <td>12.0</td>\n",
       "      <td>lf</td>\n",
       "    </tr>\n",
       "    <tr>\n",
       "      <th>5</th>\n",
       "      <td>38.0</td>\n",
       "      <td>3.0</td>\n",
       "      <td>cue</td>\n",
       "    </tr>\n",
       "    <tr>\n",
       "      <th>6</th>\n",
       "      <td>41.0</td>\n",
       "      <td>12.0</td>\n",
       "      <td>t</td>\n",
       "    </tr>\n",
       "    <tr>\n",
       "      <th>7</th>\n",
       "      <td>53.0</td>\n",
       "      <td>3.0</td>\n",
       "      <td>cue</td>\n",
       "    </tr>\n",
       "    <tr>\n",
       "      <th>8</th>\n",
       "      <td>56.0</td>\n",
       "      <td>12.0</td>\n",
       "      <td>rf</td>\n",
       "    </tr>\n",
       "    <tr>\n",
       "      <th>9</th>\n",
       "      <td>68.0</td>\n",
       "      <td>3.0</td>\n",
       "      <td>cue</td>\n",
       "    </tr>\n",
       "    <tr>\n",
       "      <th>10</th>\n",
       "      <td>71.0</td>\n",
       "      <td>12.0</td>\n",
       "      <td>lh</td>\n",
       "    </tr>\n",
       "    <tr>\n",
       "      <th>11</th>\n",
       "      <td>83.0</td>\n",
       "      <td>15.0</td>\n",
       "      <td>fixation</td>\n",
       "    </tr>\n",
       "    <tr>\n",
       "      <th>12</th>\n",
       "      <td>98.0</td>\n",
       "      <td>3.0</td>\n",
       "      <td>cue</td>\n",
       "    </tr>\n",
       "    <tr>\n",
       "      <th>13</th>\n",
       "      <td>101.0</td>\n",
       "      <td>12.0</td>\n",
       "      <td>t</td>\n",
       "    </tr>\n",
       "    <tr>\n",
       "      <th>14</th>\n",
       "      <td>113.0</td>\n",
       "      <td>3.0</td>\n",
       "      <td>cue</td>\n",
       "    </tr>\n",
       "    <tr>\n",
       "      <th>15</th>\n",
       "      <td>116.0</td>\n",
       "      <td>12.0</td>\n",
       "      <td>lf</td>\n",
       "    </tr>\n",
       "    <tr>\n",
       "      <th>16</th>\n",
       "      <td>128.0</td>\n",
       "      <td>3.0</td>\n",
       "      <td>cue</td>\n",
       "    </tr>\n",
       "    <tr>\n",
       "      <th>17</th>\n",
       "      <td>131.0</td>\n",
       "      <td>12.0</td>\n",
       "      <td>rh</td>\n",
       "    </tr>\n",
       "    <tr>\n",
       "      <th>18</th>\n",
       "      <td>143.0</td>\n",
       "      <td>16.0</td>\n",
       "      <td>fixation</td>\n",
       "    </tr>\n",
       "    <tr>\n",
       "      <th>19</th>\n",
       "      <td>159.0</td>\n",
       "      <td>3.0</td>\n",
       "      <td>cue</td>\n",
       "    </tr>\n",
       "    <tr>\n",
       "      <th>20</th>\n",
       "      <td>162.0</td>\n",
       "      <td>12.0</td>\n",
       "      <td>lh</td>\n",
       "    </tr>\n",
       "    <tr>\n",
       "      <th>21</th>\n",
       "      <td>174.0</td>\n",
       "      <td>3.0</td>\n",
       "      <td>cue</td>\n",
       "    </tr>\n",
       "    <tr>\n",
       "      <th>22</th>\n",
       "      <td>177.0</td>\n",
       "      <td>12.0</td>\n",
       "      <td>rf</td>\n",
       "    </tr>\n",
       "    <tr>\n",
       "      <th>23</th>\n",
       "      <td>189.0</td>\n",
       "      <td>15.5</td>\n",
       "      <td>fixation</td>\n",
       "    </tr>\n",
       "    <tr>\n",
       "      <th>24</th>\n",
       "      <td>204.5</td>\n",
       "      <td>8.0</td>\n",
       "      <td>NaN</td>\n",
       "    </tr>\n",
       "    <tr>\n",
       "      <th>25</th>\n",
       "      <td>212.5</td>\n",
       "      <td>3.0</td>\n",
       "      <td>cue</td>\n",
       "    </tr>\n",
       "    <tr>\n",
       "      <th>26</th>\n",
       "      <td>215.5</td>\n",
       "      <td>12.0</td>\n",
       "      <td>lh</td>\n",
       "    </tr>\n",
       "    <tr>\n",
       "      <th>27</th>\n",
       "      <td>227.5</td>\n",
       "      <td>3.0</td>\n",
       "      <td>cue</td>\n",
       "    </tr>\n",
       "    <tr>\n",
       "      <th>28</th>\n",
       "      <td>230.5</td>\n",
       "      <td>12.0</td>\n",
       "      <td>rf</td>\n",
       "    </tr>\n",
       "    <tr>\n",
       "      <th>29</th>\n",
       "      <td>242.5</td>\n",
       "      <td>15.0</td>\n",
       "      <td>fixation</td>\n",
       "    </tr>\n",
       "    <tr>\n",
       "      <th>30</th>\n",
       "      <td>257.5</td>\n",
       "      <td>3.0</td>\n",
       "      <td>cue</td>\n",
       "    </tr>\n",
       "    <tr>\n",
       "      <th>31</th>\n",
       "      <td>260.5</td>\n",
       "      <td>12.0</td>\n",
       "      <td>t</td>\n",
       "    </tr>\n",
       "    <tr>\n",
       "      <th>32</th>\n",
       "      <td>272.5</td>\n",
       "      <td>3.0</td>\n",
       "      <td>cue</td>\n",
       "    </tr>\n",
       "    <tr>\n",
       "      <th>33</th>\n",
       "      <td>275.5</td>\n",
       "      <td>12.0</td>\n",
       "      <td>lf</td>\n",
       "    </tr>\n",
       "    <tr>\n",
       "      <th>34</th>\n",
       "      <td>287.5</td>\n",
       "      <td>3.0</td>\n",
       "      <td>cue</td>\n",
       "    </tr>\n",
       "    <tr>\n",
       "      <th>35</th>\n",
       "      <td>290.5</td>\n",
       "      <td>12.0</td>\n",
       "      <td>rh</td>\n",
       "    </tr>\n",
       "    <tr>\n",
       "      <th>36</th>\n",
       "      <td>302.5</td>\n",
       "      <td>15.0</td>\n",
       "      <td>fixation</td>\n",
       "    </tr>\n",
       "    <tr>\n",
       "      <th>37</th>\n",
       "      <td>317.5</td>\n",
       "      <td>3.0</td>\n",
       "      <td>cue</td>\n",
       "    </tr>\n",
       "    <tr>\n",
       "      <th>38</th>\n",
       "      <td>320.5</td>\n",
       "      <td>12.0</td>\n",
       "      <td>lh</td>\n",
       "    </tr>\n",
       "    <tr>\n",
       "      <th>39</th>\n",
       "      <td>332.5</td>\n",
       "      <td>3.0</td>\n",
       "      <td>cue</td>\n",
       "    </tr>\n",
       "    <tr>\n",
       "      <th>40</th>\n",
       "      <td>335.5</td>\n",
       "      <td>12.0</td>\n",
       "      <td>t</td>\n",
       "    </tr>\n",
       "    <tr>\n",
       "      <th>41</th>\n",
       "      <td>347.5</td>\n",
       "      <td>3.0</td>\n",
       "      <td>cue</td>\n",
       "    </tr>\n",
       "    <tr>\n",
       "      <th>42</th>\n",
       "      <td>350.5</td>\n",
       "      <td>12.0</td>\n",
       "      <td>rf</td>\n",
       "    </tr>\n",
       "    <tr>\n",
       "      <th>43</th>\n",
       "      <td>362.5</td>\n",
       "      <td>4.0</td>\n",
       "      <td>cue</td>\n",
       "    </tr>\n",
       "    <tr>\n",
       "      <th>44</th>\n",
       "      <td>366.5</td>\n",
       "      <td>12.0</td>\n",
       "      <td>rh</td>\n",
       "    </tr>\n",
       "    <tr>\n",
       "      <th>45</th>\n",
       "      <td>378.5</td>\n",
       "      <td>3.0</td>\n",
       "      <td>cue</td>\n",
       "    </tr>\n",
       "    <tr>\n",
       "      <th>46</th>\n",
       "      <td>381.5</td>\n",
       "      <td>12.0</td>\n",
       "      <td>lf</td>\n",
       "    </tr>\n",
       "    <tr>\n",
       "      <th>47</th>\n",
       "      <td>393.5</td>\n",
       "      <td>15.5</td>\n",
       "      <td>fixation</td>\n",
       "    </tr>\n",
       "  </tbody>\n",
       "</table>\n",
       "</div>"
      ],
      "text/plain": [
       "    onset  duration condition\n",
       "0     0.0       8.0       NaN\n",
       "1     8.0       3.0       cue\n",
       "2    11.0      12.0        rh\n",
       "3    23.0       3.0       cue\n",
       "4    26.0      12.0        lf\n",
       "5    38.0       3.0       cue\n",
       "6    41.0      12.0         t\n",
       "7    53.0       3.0       cue\n",
       "8    56.0      12.0        rf\n",
       "9    68.0       3.0       cue\n",
       "10   71.0      12.0        lh\n",
       "11   83.0      15.0  fixation\n",
       "12   98.0       3.0       cue\n",
       "13  101.0      12.0         t\n",
       "14  113.0       3.0       cue\n",
       "15  116.0      12.0        lf\n",
       "16  128.0       3.0       cue\n",
       "17  131.0      12.0        rh\n",
       "18  143.0      16.0  fixation\n",
       "19  159.0       3.0       cue\n",
       "20  162.0      12.0        lh\n",
       "21  174.0       3.0       cue\n",
       "22  177.0      12.0        rf\n",
       "23  189.0      15.5  fixation\n",
       "24  204.5       8.0       NaN\n",
       "25  212.5       3.0       cue\n",
       "26  215.5      12.0        lh\n",
       "27  227.5       3.0       cue\n",
       "28  230.5      12.0        rf\n",
       "29  242.5      15.0  fixation\n",
       "30  257.5       3.0       cue\n",
       "31  260.5      12.0         t\n",
       "32  272.5       3.0       cue\n",
       "33  275.5      12.0        lf\n",
       "34  287.5       3.0       cue\n",
       "35  290.5      12.0        rh\n",
       "36  302.5      15.0  fixation\n",
       "37  317.5       3.0       cue\n",
       "38  320.5      12.0        lh\n",
       "39  332.5       3.0       cue\n",
       "40  335.5      12.0         t\n",
       "41  347.5       3.0       cue\n",
       "42  350.5      12.0        rf\n",
       "43  362.5       4.0       cue\n",
       "44  366.5      12.0        rh\n",
       "45  378.5       3.0       cue\n",
       "46  381.5      12.0        lf\n",
       "47  393.5      15.5  fixation"
      ]
     },
     "execution_count": 6,
     "metadata": {},
     "output_type": "execute_result"
    }
   ],
   "source": [
    "events_path = os.path.join(preproc_root, 'sub-101410', 'func', 'sub-101410_task-motor_concat_events.tsv')\n",
    "events = pd.read_csv(events_path, sep=\"\\t\")\n",
    "print(events.columns)\n",
    "events"
   ]
  },
  {
   "cell_type": "markdown",
   "id": "3482dd61-c7d2-4dde-bee4-a08b0806812c",
   "metadata": {},
   "source": [
    "For some reason the NaN Condition causes problems as it is read by the GLM fit as a duplicate. The NaN condition only appears at the beginning of each run, so for the construction of the design matrix i removed it."
   ]
  },
  {
   "cell_type": "code",
   "execution_count": 8,
   "id": "564f3012-99a6-4403-b546-801f956e978e",
   "metadata": {},
   "outputs": [],
   "source": [
    "# Drop NaNs in condition/trial_type\n",
    "events_clean = events.dropna(subset=['condition']).copy()\n",
    "\n",
    "# Rename column for Nilearn\n",
    "events_clean.rename(columns={'condition': 'trial_type'}, inplace=True)\n"
   ]
  },
  {
   "cell_type": "markdown",
   "id": "b70aefa0-133b-46cd-b170-d61cbb7b0437",
   "metadata": {},
   "source": [
    "training a glm model:"
   ]
  },
  {
   "cell_type": "code",
   "execution_count": 25,
   "id": "91348ca9-5e98-4c0c-9689-f18fba4de937",
   "metadata": {},
   "outputs": [
    {
     "name": "stderr",
     "output_type": "stream",
     "text": [
      "/opt/conda/lib/python3.11/site-packages/nilearn/glm/first_level/first_level.py:707: UserWarning: Mean values of 0 observed. The data have probably been centered.Scaling might not work as expected\n",
      "  Y, _ = mean_scaling(Y, self.signal_scaling)\n"
     ]
    }
   ],
   "source": [
    "# Rename the column 'condition' -> 'trial_type'\n",
    "events_clean.rename(columns={'condition': 'trial_type'}, inplace=True)\n",
    "\n",
    "from nilearn.glm.first_level import make_first_level_design_matrix, FirstLevelModel\n",
    "fmri_img = nib.load(op.join(preproc_root, 'sub-101410', 'func', 'sub-101410_task-motor_concat.nii.gz'))\n",
    "# Specify what sort of GLM we want (nature of the noise, repetition time of the data and other parameters)\n",
    "fmri_glm = FirstLevelModel(t_r=0.72,\n",
    "                           noise_model='ar1',\n",
    "                           standardize=False,\n",
    "                           hrf_model='spm',\n",
    "                           drift_model=None,\n",
    "                           high_pass=.01,\n",
    "                          )\n",
    "\n",
    "# Fit the model to our design and data\n",
    "fmri_glm = fmri_glm.fit(fmri_img, events_clean)"
   ]
  },
  {
   "cell_type": "code",
   "execution_count": 13,
   "id": "b8233d87-cf85-4353-a495-14fb516726b9",
   "metadata": {},
   "outputs": [
    {
     "ename": "NameError",
     "evalue": "name 'show' is not defined",
     "output_type": "error",
     "traceback": [
      "\u001b[0;31m---------------------------------------------------------------------------\u001b[0m",
      "\u001b[0;31mNameError\u001b[0m                                 Traceback (most recent call last)",
      "Cell \u001b[0;32mIn[13], line 3\u001b[0m\n\u001b[1;32m      1\u001b[0m \u001b[38;5;28;01mfrom\u001b[39;00m \u001b[38;5;21;01mnilearn\u001b[39;00m\u001b[38;5;21;01m.\u001b[39;00m\u001b[38;5;21;01mplotting\u001b[39;00m \u001b[38;5;28;01mimport\u001b[39;00m plot_design_matrix\n\u001b[1;32m      2\u001b[0m plot_design_matrix(fmri_glm\u001b[38;5;241m.\u001b[39mdesign_matrices_[\u001b[38;5;241m0\u001b[39m])\n\u001b[0;32m----> 3\u001b[0m \u001b[43mshow\u001b[49m()\n",
      "\u001b[0;31mNameError\u001b[0m: name 'show' is not defined"
     ]
    },
    {
     "data": {
      "image/png": "[encoded data removed]",
      "text/plain": [
       "<Figure size 284x1000 with 1 Axes>"
      ]
     },
     "metadata": {},
     "output_type": "display_data"
    }
   ],
   "source": [
    "from nilearn.plotting import plot_design_matrix\n",
    "plot_design_matrix(fmri_glm.design_matrices_[0])\n",
    "show()"
   ]
  },
  {
   "cell_type": "markdown",
   "id": "e3cb07f2-2b4d-4f98-8bcd-98b324d6de5a",
   "metadata": {},
   "source": [
    "adding 2 regressors to account for the baseline shift between the two runs"
   ]
  },
  {
   "cell_type": "code",
   "execution_count": 26,
   "id": "6d028f42-303e-4851-ab3b-9e14f6590497",
   "metadata": {},
   "outputs": [],
   "source": [
    "# determining the number of scanns per run (the same for both runs)\n",
    "n_scan_run = nib.load(op.join(func_dir, 'sub-101410_task-motorRL_bold.nii')).shape[3]\n",
    "run1_reg = np.zeros(2 * n_scan_run)\n",
    "run2_reg = np.zeros(2 * n_scan_run)\n",
    "run1_reg[:n_scan_run] = 1\n",
    "run2_reg[n_scan_run:] = 1\n",
    "\n",
    "reg_names = ['run1_LR_baseline', 'run2_RL_baseline']\n",
    "reg = [run1_reg, run2_reg]\n",
    "\n",
    "design_mat = fmri_glm.design_matrices_[0]\n",
    "for (col, name) in zip(reg, reg_names):\n",
    "    design_mat[name] = col\n"
   ]
  },
  {
   "cell_type": "code",
   "execution_count": 27,
   "id": "74014e97-8d7f-400a-b3b6-7b2f88432eb8",
   "metadata": {},
   "outputs": [
    {
     "ename": "NameError",
     "evalue": "name 'plt' is not defined",
     "output_type": "error",
     "traceback": [
      "\u001b[0;31m---------------------------------------------------------------------------\u001b[0m",
      "\u001b[0;31mNameError\u001b[0m                                 Traceback (most recent call last)",
      "Cell \u001b[0;32mIn[27], line 2\u001b[0m\n\u001b[1;32m      1\u001b[0m plot_design_matrix(design_mat)\n\u001b[0;32m----> 2\u001b[0m \u001b[43mplt\u001b[49m\u001b[38;5;241m.\u001b[39mshow()\n",
      "\u001b[0;31mNameError\u001b[0m: name 'plt' is not defined"
     ]
    },
    {
     "data": {
      "image/png": "[encoded data removed]",
      "text/plain": [
       "<Figure size 330x1000 with 1 Axes>"
      ]
     },
     "metadata": {},
     "output_type": "display_data"
    }
   ],
   "source": [
    "plot_design_matrix(design_mat)\n",
    "plt.show()"
   ]
  },
  {
   "cell_type": "code",
   "execution_count": null,
   "id": "a34e3093-c7d9-49f6-9410-eb16a90bc963",
   "metadata": {},
   "outputs": [],
   "source": []
  }
 ],
 "metadata": {
  "kernelspec": {
   "display_name": "Python 3 (ipykernel)",
   "language": "python",
   "name": "python3"
  },
  "language_info": {
   "codemirror_mode": {
    "name": "ipython",
    "version": 3
   },
   "file_extension": ".py",
   "mimetype": "text/x-python",
   "name": "python",
   "nbconvert_exporter": "python",
   "pygments_lexer": "ipython3",
   "version": "3.11.6"
  }
 },
 "nbformat": 4,
 "nbformat_minor": 5
}
