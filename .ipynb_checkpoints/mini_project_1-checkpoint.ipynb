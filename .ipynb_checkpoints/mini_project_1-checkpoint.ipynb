{
 "cells": [
  {
   "cell_type": "markdown",
   "id": "5c547153-52ce-4382-9edc-3791c7dcb251",
   "metadata": {},
   "source": [
    "# Mini-Project 1"
   ]
  },
  {
   "cell_type": "code",
   "execution_count": 1,
   "id": "bfa124eb-af23-4abc-9457-b2ab4e516729",
   "metadata": {},
   "outputs": [
    {
     "name": "stderr",
     "output_type": "stream",
     "text": [
      "Gtk-Message: 11:03:15.256: Failed to load module \"canberra-gtk-module\"\n"
     ]
    },
    {
     "name": "stdout",
     "output_type": "stream",
     "text": [
      "Requirement already satisfied: antspyx in /opt/conda/lib/python3.11/site-packages (0.5.3)\n",
      "Requirement already satisfied: pandas in /opt/conda/lib/python3.11/site-packages (from antspyx) (2.2.2)\n",
      "Requirement already satisfied: pyyaml in /opt/conda/lib/python3.11/site-packages (from antspyx) (6.0.1)\n",
      "Requirement already satisfied: numpy in /opt/conda/lib/python3.11/site-packages (from antspyx) (1.26.4)\n",
      "Requirement already satisfied: statsmodels in /opt/conda/lib/python3.11/site-packages (from antspyx) (0.14.2)\n",
      "Requirement already satisfied: webcolors in /opt/conda/lib/python3.11/site-packages (from antspyx) (1.13)\n",
      "Requirement already satisfied: matplotlib in /opt/conda/lib/python3.11/site-packages (from antspyx) (3.9.2)\n",
      "Requirement already satisfied: Pillow in /opt/conda/lib/python3.11/site-packages (from antspyx) (10.0.0)\n",
      "Requirement already satisfied: requests in /opt/conda/lib/python3.11/site-packages (from antspyx) (2.31.0)\n",
      "Requirement already satisfied: contourpy>=1.0.1 in /opt/conda/lib/python3.11/site-packages (from matplotlib->antspyx) (1.3.0)\n",
      "Requirement already satisfied: cycler>=0.10 in /opt/conda/lib/python3.11/site-packages (from matplotlib->antspyx) (0.12.1)\n",
      "Requirement already satisfied: fonttools>=4.22.0 in /opt/conda/lib/python3.11/site-packages (from matplotlib->antspyx) (4.53.1)\n",
      "Requirement already satisfied: kiwisolver>=1.3.1 in /opt/conda/lib/python3.11/site-packages (from matplotlib->antspyx) (1.4.7)\n",
      "Requirement already satisfied: packaging>=20.0 in /opt/conda/lib/python3.11/site-packages (from matplotlib->antspyx) (23.2)\n",
      "Requirement already satisfied: pyparsing>=2.3.1 in /opt/conda/lib/python3.11/site-packages (from matplotlib->antspyx) (3.1.4)\n",
      "Requirement already satisfied: python-dateutil>=2.7 in /opt/conda/lib/python3.11/site-packages (from matplotlib->antspyx) (2.8.2)\n",
      "Requirement already satisfied: pytz>=2020.1 in /opt/conda/lib/python3.11/site-packages (from pandas->antspyx) (2023.3)\n",
      "Requirement already satisfied: tzdata>=2022.7 in /opt/conda/lib/python3.11/site-packages (from pandas->antspyx) (2024.1)\n",
      "Requirement already satisfied: charset-normalizer<4,>=2 in /opt/conda/lib/python3.11/site-packages (from requests->antspyx) (3.3.0)\n",
      "Requirement already satisfied: idna<4,>=2.5 in /opt/conda/lib/python3.11/site-packages (from requests->antspyx) (3.4)\n",
      "Requirement already satisfied: urllib3<3,>=1.21.1 in /opt/conda/lib/python3.11/site-packages (from requests->antspyx) (2.0.7)\n",
      "Requirement already satisfied: certifi>=2017.4.17 in /opt/conda/lib/python3.11/site-packages (from requests->antspyx) (2024.8.30)\n",
      "Requirement already satisfied: scipy!=1.9.2,>=1.8 in /opt/conda/lib/python3.11/site-packages (from statsmodels->antspyx) (1.14.1)\n",
      "Requirement already satisfied: patsy>=0.5.6 in /opt/conda/lib/python3.11/site-packages (from statsmodels->antspyx) (0.5.6)\n",
      "Requirement already satisfied: six in /opt/conda/lib/python3.11/site-packages (from patsy>=0.5.6->statsmodels->antspyx) (1.16.0)\n"
     ]
    }
   ],
   "source": [
    "%gui wx\n",
    "import sys\n",
    "import os\n",
    "\n",
    "#####################\n",
    "# Import of utils.py functions\n",
    "#####################\n",
    "# Required to get utils.py and access its functions\n",
    "notebook_dir = os.path.abspath(\"\")\n",
    "parent_dir = os.path.abspath(os.path.join(notebook_dir, '..'))\n",
    "sys.path.append(parent_dir)\n",
    "sys.path.append('.')\n",
    "from utils import loadFSL, FSLeyesServer, mkdir_no_exist, interactive_MCQ\n",
    "\n",
    "####################\n",
    "# DIPY_HOME should be set prior to import of dipy to make sure all downloads point to the right folder\n",
    "####################\n",
    "os.environ[\"DIPY_HOME\"] = \"/home/jovyan/Data\"\n",
    "\n",
    "\n",
    "#############################\n",
    "# Loading fsl and freesurfer within Neurodesk\n",
    "# You can find the list of available other modules by clicking on the \"Softwares\" tab on the left\n",
    "#############################\n",
    "import lmod\n",
    "await lmod.purge(force=True)\n",
    "await lmod.load('fsl/6.0.7.4')\n",
    "await lmod.load('freesurfer/7.4.1')\n",
    "await lmod.list()\n",
    "\n",
    "####################\n",
    "# Setup FSL path\n",
    "####################\n",
    "loadFSL()\n",
    "\n",
    "###################\n",
    "# Load all relevant libraries for the lab\n",
    "##################\n",
    "import fsl.wrappers\n",
    "from fsl.wrappers import fslmaths\n",
    "\n",
    "import mne_nirs\n",
    "import nilearn\n",
    "from nilearn.datasets import fetch_development_fmri\n",
    "\n",
    "import mne\n",
    "import mne_nirs\n",
    "import dipy\n",
    "from dipy.data import fetch_bundles_2_subjects, read_bundles_2_subjects\n",
    "import xml.etree.ElementTree as ET\n",
    "import os.path as op\n",
    "import nibabel as nib\n",
    "import glob\n",
    "\n",
    "!pip install antspyx\n",
    "import ants\n",
    "\n",
    "import openneuro\n",
    "from mne.datasets import sample\n",
    "from mne_bids import BIDSPath, read_raw_bids, print_dir_tree, make_report\n",
    "\n",
    "\n",
    "# Useful imports to define the direct download function below\n",
    "import requests\n",
    "import urllib.request\n",
    "from tqdm import tqdm\n",
    "\n",
    "\n",
    "# FSL function wrappers which we will call from python directly\n",
    "from fsl.wrappers import fast, bet\n",
    "from fsl.wrappers.misc import fslroi\n",
    "from fsl.wrappers import flirt\n",
    "\n",
    "# General purpose imports to handle paths, files etc\n",
    "import glob\n",
    "import pandas as pd\n",
    "import numpy as np\n",
    "import json"
   ]
  },
  {
   "cell_type": "markdown",
   "id": "36de7b91-595d-4006-9964-932bcfe709d4",
   "metadata": {},
   "source": [
    "## Usefull functions"
   ]
  },
  {
   "cell_type": "code",
   "execution_count": 2,
   "id": "84518f39-9881-4105-a298-56688c4f9490",
   "metadata": {},
   "outputs": [],
   "source": [
    "class DownloadProgressBar(tqdm):\n",
    "    def update_to(self, b=1, bsize=1, tsize=None):\n",
    "        if tsize is not None:\n",
    "            self.total = tsize\n",
    "        self.update(b * bsize - self.n)\n",
    "\n",
    "def download_url(url, output_path):\n",
    "    with DownloadProgressBar(unit='B', unit_scale=True,\n",
    "                             miniters=1, desc=url.split('/')[-1]) as t:\n",
    "        urllib.request.urlretrieve(url, filename=output_path, reporthook=t.update_to)\n",
    "\n",
    "def direct_file_download_open_neuro(file_list, file_types, dataset_id, dataset_version, save_dirs):\n",
    "    # https://openneuro.org/crn/datasets/ds004226/snapshots/1.0.0/files/sub-001:sub-001_scans.tsv\n",
    "    for i, n in enumerate(file_list):\n",
    "        subject = n.split('_')[0]\n",
    "        download_link = 'https://openneuro.org/crn/datasets/{}/snapshots/{}/files/{}:{}:{}'.format(dataset_id, dataset_version, subject, file_types[i],n)\n",
    "        print('Attempting download from ', download_link)\n",
    "        download_url(download_link, op.join(save_dirs[i], n))\n",
    "        print('Ok')\n",
    "        \n",
    "def get_json_from_file(fname):\n",
    "    f = open(fname)\n",
    "    data = json.load(f)\n",
    "    f.close()\n",
    "    return data"
   ]
  },
  {
   "cell_type": "code",
   "execution_count": 3,
   "id": "91ee142b-107a-48c7-b892-5e006569b652",
   "metadata": {
    "scrolled": true
   },
   "outputs": [
    {
     "name": "stderr",
     "output_type": "stream",
     "text": [
      "11:03:27: Debug: Adding duplicate image handler for 'Windows bitmap file'\n",
      "11:03:27: Debug: Adding duplicate animation handler for '1' type\n",
      "11:03:27: Debug: Adding duplicate animation handler for '2' type\n",
      "11:03:27: Debug: Adding duplicate image handler for 'Windows bitmap file'\n",
      "11:03:27: Debug: Adding duplicate animation handler for '1' type\n",
      "11:03:27: Debug: Adding duplicate animation handler for '2' type\n",
      "\n",
      "(ipykernel_launcher.py:5430): Gtk-CRITICAL **: 11:03:27.880: gtk_window_resize: assertion 'height > 0' failed\n"
     ]
    }
   ],
   "source": [
    "###############\n",
    "# Start FSLeyes (very neat tool to visualize MRI data of all sorts) within Python\n",
    "################\n",
    "loadFSL()\n",
    "fsleyesDisplay = FSLeyesServer()\n",
    "fsleyesDisplay.show()"
   ]
  },
  {
   "cell_type": "markdown",
   "id": "bc1f6c62-9cb7-4727-a399-2ca0411af53c",
   "metadata": {},
   "source": [
    "# Visualization of the data in FSL"
   ]
  },
  {
   "cell_type": "code",
   "execution_count": 4,
   "id": "79e7ee6b-a81a-4cdb-bd1f-fdbf96053501",
   "metadata": {},
   "outputs": [],
   "source": [
    "fsleyesDisplay.load(op.expandvars('/home/jovyan/neurodesktop-storage/NSSPMini_Project1/data/T1w/T1w'))"
   ]
  },
  {
   "cell_type": "code",
   "execution_count": 5,
   "id": "008c31b5-0077-493d-8a04-cf575a100132",
   "metadata": {},
   "outputs": [
    {
     "name": "stderr",
     "output_type": "stream",
     "text": [
      "\n",
      "(ipykernel_launcher.py:5430): Gdk-WARNING **: 11:03:29.304: gdkdrawable-x11.c:952 drawable is not a pixmap or window\n",
      "11:03:29: Debug: ClientToScreen cannot work when toplevel window is not shown\n",
      "11:03:29: Debug: ClientToScreen cannot work when toplevel window is not shown\n",
      "\n",
      "(ipykernel_launcher.py:5430): Gdk-WARNING **: 11:03:29.306: gdkdrawable-x11.c:952 drawable is not a pixmap or window\n",
      "11:03:29: Debug: ClientToScreen cannot work when toplevel window is not shown\n",
      "11:03:29: Debug: ClientToScreen cannot work when toplevel window is not shown\n",
      "\n",
      "(ipykernel_launcher.py:5430): Gdk-WARNING **: 11:03:29.306: gdkdrawable-x11.c:952 drawable is not a pixmap or window\n",
      "11:03:29: Debug: ClientToScreen cannot work when toplevel window is not shown\n",
      "11:03:29: Debug: ClientToScreen cannot work when toplevel window is not shown\n",
      "\n",
      "(ipykernel_launcher.py:5430): Gdk-WARNING **: 11:03:29.307: gdkdrawable-x11.c:952 drawable is not a pixmap or window\n",
      "11:03:29: Debug: ClientToScreen cannot work when toplevel window is not shown\n",
      "11:03:29: Debug: ClientToScreen cannot work when toplevel window is not shown\n",
      "\n",
      "(ipykernel_launcher.py:5430): Gdk-WARNING **: 11:03:29.308: gdkdrawable-x11.c:952 drawable is not a pixmap or window\n",
      "11:03:29: Debug: ClientToScreen cannot work when toplevel window is not shown\n",
      "11:03:29: Debug: ClientToScreen cannot work when toplevel window is not shown\n",
      "\n",
      "(ipykernel_launcher.py:5430): Gdk-WARNING **: 11:03:29.309: gdkdrawable-x11.c:952 drawable is not a pixmap or window\n",
      "11:03:29: Debug: ClientToScreen cannot work when toplevel window is not shown\n",
      "11:03:29: Debug: ClientToScreen cannot work when toplevel window is not shown\n",
      "\n",
      "(ipykernel_launcher.py:5430): Gdk-WARNING **: 11:03:29.309: gdkdrawable-x11.c:952 drawable is not a pixmap or window\n",
      "11:03:29: Debug: ClientToScreen cannot work when toplevel window is not shown\n",
      "11:03:29: Debug: ClientToScreen cannot work when toplevel window is not shown\n"
     ]
    }
   ],
   "source": [
    "fsleyesDisplay.resetOverlays()\n",
    "fsleyesDisplay.load(op.expandvars('/home/jovyan/neurodesktop-storage/NSSPMini_Project1/data/fMRI/tfMRI_MOTOR_LR/tfMRI_MOTOR_LR'))"
   ]
  },
  {
   "cell_type": "code",
   "execution_count": 6,
   "id": "a5ac4d8e-fe11-4611-929c-b87e4b18bdc8",
   "metadata": {},
   "outputs": [
    {
     "name": "stderr",
     "output_type": "stream",
     "text": [
      "\n",
      "(ipykernel_launcher.py:5430): Gdk-WARNING **: 11:03:31.185: gdkdrawable-x11.c:952 drawable is not a pixmap or window\n",
      "11:03:31: Debug: ClientToScreen cannot work when toplevel window is not shown\n",
      "11:03:31: Debug: ClientToScreen cannot work when toplevel window is not shown\n",
      "\n",
      "(ipykernel_launcher.py:5430): Gdk-WARNING **: 11:03:31.186: gdkdrawable-x11.c:952 drawable is not a pixmap or window\n",
      "11:03:31: Debug: ClientToScreen cannot work when toplevel window is not shown\n",
      "11:03:31: Debug: ClientToScreen cannot work when toplevel window is not shown\n",
      "\n",
      "(ipykernel_launcher.py:5430): Gdk-WARNING **: 11:03:31.187: gdkdrawable-x11.c:952 drawable is not a pixmap or window\n",
      "11:03:31: Debug: ClientToScreen cannot work when toplevel window is not shown\n",
      "11:03:31: Debug: ClientToScreen cannot work when toplevel window is not shown\n",
      "\n",
      "(ipykernel_launcher.py:5430): Gdk-WARNING **: 11:03:31.188: gdkdrawable-x11.c:952 drawable is not a pixmap or window\n",
      "11:03:31: Debug: ClientToScreen cannot work when toplevel window is not shown\n",
      "11:03:31: Debug: ClientToScreen cannot work when toplevel window is not shown\n",
      "\n",
      "(ipykernel_launcher.py:5430): Gdk-WARNING **: 11:03:31.188: gdkdrawable-x11.c:952 drawable is not a pixmap or window\n",
      "11:03:31: Debug: ClientToScreen cannot work when toplevel window is not shown\n",
      "11:03:31: Debug: ClientToScreen cannot work when toplevel window is not shown\n",
      "\n",
      "(ipykernel_launcher.py:5430): Gdk-WARNING **: 11:03:31.189: gdkdrawable-x11.c:952 drawable is not a pixmap or window\n",
      "11:03:31: Debug: ClientToScreen cannot work when toplevel window is not shown\n",
      "11:03:31: Debug: ClientToScreen cannot work when toplevel window is not shown\n",
      "\n",
      "(ipykernel_launcher.py:5430): Gdk-WARNING **: 11:03:31.190: gdkdrawable-x11.c:952 drawable is not a pixmap or window\n",
      "11:03:31: Debug: ClientToScreen cannot work when toplevel window is not shown\n",
      "11:03:31: Debug: ClientToScreen cannot work when toplevel window is not shown\n"
     ]
    }
   ],
   "source": [
    "fsleyesDisplay.resetOverlays()\n",
    "fsleyesDisplay.load(op.expandvars('/home/jovyan/neurodesktop-storage/NSSPMini_Project1/data/fMRI/tfMRI_MOTOR_RL/tfMRI_MOTOR_RL'))"
   ]
  },
  {
   "cell_type": "markdown",
   "id": "962e0a3a-dba6-4711-8f91-16d1f15c8959",
   "metadata": {},
   "source": [
    "# Use BIDS standard"
   ]
  },
  {
   "cell_type": "code",
   "execution_count": 7,
   "id": "0252e69b-fe1b-4a4d-a1c7-d5719afefd44",
   "metadata": {},
   "outputs": [],
   "source": [
    "dataset_id = 'subject101410'\n",
    "subject = '101410' \n",
    "\n",
    "sample_path = \"/home/jovyan/neurodesktop-storage/NSSPMini_Project1/data\"\n",
    "mkdir_no_exist(sample_path)\n",
    "bids_root = op.join(sample_path, dataset_id)\n",
    "deriv_root = op.join(bids_root, 'derivatives')\n",
    "preproc_root = op.join(bids_root, 'derivatives','preprocessed_data')\n",
    "\n",
    "subject_dir = 'sub-{}'.format(subject)\n",
    "\n",
    "anat_dir = op.join(bids_root,subject_dir,\"anat\")\n",
    "func_dir = op.join(bids_root,subject_dir,\"func\")"
   ]
  },
  {
   "cell_type": "markdown",
   "id": "5da5396b-b4da-4ef3-9659-778be3968d9a",
   "metadata": {},
   "source": [
    "#### TO RUN ONLY IF YOU DON'T HAVE THE STRUCTURE"
   ]
  },
  {
   "cell_type": "code",
   "execution_count": 8,
   "id": "4953c436-c4f0-4982-aaa5-7268f8591d40",
   "metadata": {},
   "outputs": [],
   "source": [
    "mkdir_no_exist(bids_root)\n",
    "\n",
    "###################\n",
    "# Create folders relevant for preprocessing.\n",
    "# In BIDs, ANYTHING we modify must go in the derivatives folder, to keep original files clean in case we make a mistake.\n",
    "###################\n",
    "mkdir_no_exist(op.join(bids_root, 'derivatives'))\n",
    "preproc_root = op.join(bids_root, 'derivatives','preprocessed_data')\n",
    "mkdir_no_exist(preproc_root)\n",
    "mkdir_no_exist(op.join(preproc_root, 'sub-101410'))\n",
    "mkdir_no_exist(op.join(preproc_root, 'sub-101410', 'anat'))\n",
    "mkdir_no_exist(op.join(preproc_root, 'sub-101410', 'func'))\n",
    "mkdir_no_exist(op.join(preproc_root, 'sub-101410', 'fmap'))"
   ]
  },
  {
   "cell_type": "code",
   "execution_count": 9,
   "id": "61e220ae-5deb-4ba5-a884-b6dbe8729b9f",
   "metadata": {},
   "outputs": [
    {
     "name": "stdout",
     "output_type": "stream",
     "text": [
      "|subject101410/\n",
      "|--- derivatives/\n",
      "|------ preprocessed_data/\n",
      "|--------- sub-101410/\n",
      "|------------ anat/\n",
      "|------------ fmap/\n",
      "|------------ func/\n",
      "|--- sub-101410/\n",
      "|------ anat/\n",
      "|------ func/\n"
     ]
    }
   ],
   "source": [
    "print_dir_tree(bids_root, max_depth=5)"
   ]
  },
  {
   "cell_type": "markdown",
   "id": "ef89e2e3-f014-476c-a186-86be9601da4f",
   "metadata": {},
   "source": [
    "#### Now, we have to place the files we have downloaded before in the good directories according to the BIDS standard\n",
    "#### TO RUN ONLY IF YOU DON'T HAVE THE STRUCTURE"
   ]
  },
  {
   "cell_type": "code",
   "execution_count": 10,
   "id": "bd4e85e5-a03d-4a0d-9548-9385dcfac39d",
   "metadata": {},
   "outputs": [
    {
     "ename": "FileNotFoundError",
     "evalue": "[Errno 2] No such file or directory: '/home/jovyan/neurodesktop-storage/NSSPMini_Project1/data/subject101410/T1w/T1w.nii.gz'",
     "output_type": "error",
     "traceback": [
      "\u001b[0;31m---------------------------------------------------------------------------\u001b[0m",
      "\u001b[0;31mFileNotFoundError\u001b[0m                         Traceback (most recent call last)",
      "Cell \u001b[0;32mIn[10], line 12\u001b[0m\n\u001b[1;32m     10\u001b[0m \u001b[38;5;66;03m# Déplacer et renommer le T1w\u001b[39;00m\n\u001b[1;32m     11\u001b[0m anat_dest \u001b[38;5;241m=\u001b[39m op\u001b[38;5;241m.\u001b[39mjoin(anat_dir, \u001b[38;5;124mf\u001b[39m\u001b[38;5;124m\"\u001b[39m\u001b[38;5;124msub-\u001b[39m\u001b[38;5;132;01m{\u001b[39;00msubject\u001b[38;5;132;01m}\u001b[39;00m\u001b[38;5;124m_T1w.nii.gz\u001b[39m\u001b[38;5;124m\"\u001b[39m)\n\u001b[0;32m---> 12\u001b[0m \u001b[43mshutil\u001b[49m\u001b[38;5;241;43m.\u001b[39;49m\u001b[43mcopy\u001b[49m\u001b[43m(\u001b[49m\u001b[43manat_src\u001b[49m\u001b[43m,\u001b[49m\u001b[43m \u001b[49m\u001b[43manat_dest\u001b[49m\u001b[43m)\u001b[49m\n\u001b[1;32m     14\u001b[0m \u001b[38;5;66;03m# Gérer les deux runs fMRI (LR et RL)\u001b[39;00m\n\u001b[1;32m     15\u001b[0m fmri_tasks \u001b[38;5;241m=\u001b[39m {\n\u001b[1;32m     16\u001b[0m     \u001b[38;5;124m\"\u001b[39m\u001b[38;5;124mtfMRI_MOTOR_LR\u001b[39m\u001b[38;5;124m\"\u001b[39m: \u001b[38;5;124m\"\u001b[39m\u001b[38;5;124mmotorLR\u001b[39m\u001b[38;5;124m\"\u001b[39m,\n\u001b[1;32m     17\u001b[0m     \u001b[38;5;124m\"\u001b[39m\u001b[38;5;124mtfMRI_MOTOR_RL\u001b[39m\u001b[38;5;124m\"\u001b[39m: \u001b[38;5;124m\"\u001b[39m\u001b[38;5;124mmotorRL\u001b[39m\u001b[38;5;124m\"\u001b[39m\n\u001b[1;32m     18\u001b[0m }\n",
      "File \u001b[0;32m/opt/conda/lib/python3.11/shutil.py:419\u001b[0m, in \u001b[0;36mcopy\u001b[0;34m(src, dst, follow_symlinks)\u001b[0m\n\u001b[1;32m    417\u001b[0m \u001b[38;5;28;01mif\u001b[39;00m os\u001b[38;5;241m.\u001b[39mpath\u001b[38;5;241m.\u001b[39misdir(dst):\n\u001b[1;32m    418\u001b[0m     dst \u001b[38;5;241m=\u001b[39m os\u001b[38;5;241m.\u001b[39mpath\u001b[38;5;241m.\u001b[39mjoin(dst, os\u001b[38;5;241m.\u001b[39mpath\u001b[38;5;241m.\u001b[39mbasename(src))\n\u001b[0;32m--> 419\u001b[0m \u001b[43mcopyfile\u001b[49m\u001b[43m(\u001b[49m\u001b[43msrc\u001b[49m\u001b[43m,\u001b[49m\u001b[43m \u001b[49m\u001b[43mdst\u001b[49m\u001b[43m,\u001b[49m\u001b[43m \u001b[49m\u001b[43mfollow_symlinks\u001b[49m\u001b[38;5;241;43m=\u001b[39;49m\u001b[43mfollow_symlinks\u001b[49m\u001b[43m)\u001b[49m\n\u001b[1;32m    420\u001b[0m copymode(src, dst, follow_symlinks\u001b[38;5;241m=\u001b[39mfollow_symlinks)\n\u001b[1;32m    421\u001b[0m \u001b[38;5;28;01mreturn\u001b[39;00m dst\n",
      "File \u001b[0;32m/opt/conda/lib/python3.11/shutil.py:256\u001b[0m, in \u001b[0;36mcopyfile\u001b[0;34m(src, dst, follow_symlinks)\u001b[0m\n\u001b[1;32m    254\u001b[0m     os\u001b[38;5;241m.\u001b[39msymlink(os\u001b[38;5;241m.\u001b[39mreadlink(src), dst)\n\u001b[1;32m    255\u001b[0m \u001b[38;5;28;01melse\u001b[39;00m:\n\u001b[0;32m--> 256\u001b[0m     \u001b[38;5;28;01mwith\u001b[39;00m \u001b[38;5;28;43mopen\u001b[39;49m\u001b[43m(\u001b[49m\u001b[43msrc\u001b[49m\u001b[43m,\u001b[49m\u001b[43m \u001b[49m\u001b[38;5;124;43m'\u001b[39;49m\u001b[38;5;124;43mrb\u001b[39;49m\u001b[38;5;124;43m'\u001b[39;49m\u001b[43m)\u001b[49m \u001b[38;5;28;01mas\u001b[39;00m fsrc:\n\u001b[1;32m    257\u001b[0m         \u001b[38;5;28;01mtry\u001b[39;00m:\n\u001b[1;32m    258\u001b[0m             \u001b[38;5;28;01mwith\u001b[39;00m \u001b[38;5;28mopen\u001b[39m(dst, \u001b[38;5;124m'\u001b[39m\u001b[38;5;124mwb\u001b[39m\u001b[38;5;124m'\u001b[39m) \u001b[38;5;28;01mas\u001b[39;00m fdst:\n\u001b[1;32m    259\u001b[0m                 \u001b[38;5;66;03m# macOS\u001b[39;00m\n",
      "\u001b[0;31mFileNotFoundError\u001b[0m: [Errno 2] No such file or directory: '/home/jovyan/neurodesktop-storage/NSSPMini_Project1/data/subject101410/T1w/T1w.nii.gz'"
     ]
    }
   ],
   "source": [
    "import shutil\n",
    "\n",
    "# Create the anat and func folders\n",
    "os.makedirs(anat_dir, exist_ok=True)\n",
    "os.makedirs(func_dir, exist_ok=True)\n",
    "\n",
    "anat_src = op.join(bids_root, \"T1w\", \"T1w.nii.gz\")\n",
    "func_root = op.join(bids_root, \"fMRI\")\n",
    "\n",
    "# Déplacer et renommer le T1w\n",
    "anat_dest = op.join(anat_dir, f\"sub-{subject}_T1w.nii.gz\")\n",
    "shutil.copy(anat_src, anat_dest)\n",
    "\n",
    "# Gérer les deux runs fMRI (LR et RL)\n",
    "fmri_tasks = {\n",
    "    \"tfMRI_MOTOR_LR\": \"motorLR\",\n",
    "    \"tfMRI_MOTOR_RL\": \"motorRL\"\n",
    "}\n",
    "\n",
    "for folder, task_name in fmri_tasks.items():\n",
    "    func_path = op.join(func_root, folder)\n",
    "    bold_src = op.join(func_path, f\"{folder}.nii\")\n",
    "    events_src = op.join(func_path, f\"events_{folder.split('_')[-1]}.csv\")\n",
    "\n",
    "    bold_dest = op.join(func_dir, f\"sub-{subject}_task-{task_name}_bold.nii.gz\")\n",
    "    events_dest = op.join(func_dir, f\"sub-{subject}_task-{task_name}_events.tsv\")\n",
    "\n",
    "    shutil.copy(bold_src, bold_dest)\n",
    "    shutil.copy(events_src, events_dest)"
   ]
  },
  {
   "cell_type": "code",
   "execution_count": 11,
   "id": "047bb448-87d0-442a-bc7f-7f7073d52fed",
   "metadata": {},
   "outputs": [
    {
     "name": "stdout",
     "output_type": "stream",
     "text": [
      "|subject101410/\n",
      "|--- derivatives/\n",
      "|------ preprocessed_data/\n",
      "|--------- sub-101410/\n",
      "|------------ anat/\n",
      "|------------ fmap/\n",
      "|------------ func/\n",
      "|--- sub-101410/\n",
      "|------ anat/\n",
      "|------ func/\n"
     ]
    }
   ],
   "source": [
    "print_dir_tree(bids_root, max_depth=4)"
   ]
  },
  {
   "cell_type": "markdown",
   "id": "58c8a93f-4b6b-49aa-ad67-4b3447bdd4d8",
   "metadata": {},
   "source": [
    "#### Nice! All the files are at the right place with the right name (we don't need the T1w and fMRI folders anymore)"
   ]
  },
  {
   "cell_type": "markdown",
   "id": "cb077653-e280-48e7-9595-87781bf127f5",
   "metadata": {},
   "source": [
    "# 1. structural preprocessing"
   ]
  },
  {
   "cell_type": "markdown",
   "id": "c0008b28-09e7-4a74-b0ee-e988844c56cb",
   "metadata": {},
   "source": [
    "## Skull-Stripping"
   ]
  },
  {
   "cell_type": "code",
   "execution_count": 13,
   "id": "f9eb3238-2866-4a8d-af3c-af6027547e17",
   "metadata": {},
   "outputs": [
    {
     "name": "stdout",
     "output_type": "stream",
     "text": [
      "\n",
      "Error: input image /home/jovyan/neurodesktop-storage/NSSPMini_Project1/data/subject101410/sub-101410/anat/sub-101410_T1w not valid\n",
      "\n",
      "Done with BET.\n"
     ]
    }
   ],
   "source": [
    "def get_skull_stripped_anatomical(bids_root, preproc_root, subject_id, robust=False):\n",
    "    \"\"\"\n",
    "    Function to perform skull-stripping (removing the skull around the brain).\n",
    "    This is a simple wrapper around the brain extraction tool (BET) in FSL's suite\n",
    "    It assumes data to be in the BIDS format (which we will cover in the following weeks).\n",
    "    The method also saves the brain mask which was used to extract the brain.\n",
    "\n",
    "    The brain extraction is conducted only on the T1w of the participant.\n",
    "\n",
    "    Parameters\n",
    "    ----------\n",
    "    bids_root: string\n",
    "        The root of the BIDS directory\n",
    "    preproc_root: string\n",
    "        The root of the preprocessed data, where the result of the brain extraction will be saved.\n",
    "    subject_id: string\n",
    "        Subject ID, the subject on which brain extraction should be conducted.\n",
    "    robust: bool\n",
    "        Whether to conduct robust center estimation with BET or not. Default is False.\n",
    "    \"\"\"\n",
    "    # We perform here skull stripping (you'll learn more about it next week!).\n",
    "    # For now all you need to do is that we remove the bones and flesh from the MRI to get the brain!\n",
    "    subject = 'sub-{}'.format(subject_id)\n",
    "    anatomical_path = op.join(bids_root, subject, 'anat', 'sub-{}_T1w.nii.gz'.format(subject_id))\n",
    "    betted_brain_path = op.join(preproc_root, subject, 'anat', 'sub-{}_T1w'.format(subject_id))\n",
    "    os.system('bet {} {} -m {}'.format(anatomical_path, betted_brain_path, '-R' if robust else ''))\n",
    "    print(\"Done with BET.\")\n",
    "\n",
    "resulting_mask_path = op.join(preproc_root, 'sub-101410', 'anat', 'sub-101410_T1w_mask')\n",
    "get_skull_stripped_anatomical(bids_root, preproc_root, \"101410\", robust = True)  # To improve the fit"
   ]
  },
  {
   "cell_type": "code",
   "execution_count": 14,
   "id": "063a76c1-0c6c-42b5-a0b9-64171061cc0b",
   "metadata": {},
   "outputs": [
    {
     "name": "stderr",
     "output_type": "stream",
     "text": [
      "\n",
      "(ipykernel_launcher.py:5430): Gdk-WARNING **: 11:04:40.957: gdkdrawable-x11.c:952 drawable is not a pixmap or window\n"
     ]
    },
    {
     "ename": "PathError",
     "evalue": "Could not find a supported file with prefix \"/neurodesktop-storage/NSSPMini_Project1/data/subject101410/sub-101410/anat/sub-101410_T1w\"",
     "output_type": "error",
     "traceback": [
      "\u001b[0;31m---------------------------------------------------------------------------\u001b[0m",
      "\u001b[0;31mPathError\u001b[0m                                 Traceback (most recent call last)",
      "Cell \u001b[0;32mIn[14], line 2\u001b[0m\n\u001b[1;32m      1\u001b[0m fsleyesDisplay\u001b[38;5;241m.\u001b[39mresetOverlays()\n\u001b[0;32m----> 2\u001b[0m \u001b[43mfsleyesDisplay\u001b[49m\u001b[38;5;241;43m.\u001b[39;49m\u001b[43mload\u001b[49m\u001b[43m(\u001b[49m\u001b[43mop\u001b[49m\u001b[38;5;241;43m.\u001b[39;49m\u001b[43mjoin\u001b[49m\u001b[43m(\u001b[49m\u001b[43manat_dir\u001b[49m\u001b[43m,\u001b[49m\u001b[38;5;124;43m\"\u001b[39;49m\u001b[38;5;124;43msub-101410_T1w\u001b[39;49m\u001b[38;5;124;43m\"\u001b[39;49m\u001b[43m)\u001b[49m\u001b[43m)\u001b[49m\n\u001b[1;32m      3\u001b[0m fsleyesDisplay\u001b[38;5;241m.\u001b[39mload(resulting_mask_path)\n",
      "File \u001b[0;32m/neurodesktop-storage/NSSPMini_Project1/utils.py:124\u001b[0m, in \u001b[0;36mFSLeyesServer.load\u001b[0;34m(self, image_path)\u001b[0m\n\u001b[1;32m    122\u001b[0m     \u001b[38;5;28mself\u001b[39m\u001b[38;5;241m.\u001b[39moverlayList\u001b[38;5;241m.\u001b[39mappend(trk_overlay)\n\u001b[1;32m    123\u001b[0m \u001b[38;5;28;01melse\u001b[39;00m:\n\u001b[0;32m--> 124\u001b[0m     \u001b[38;5;28mself\u001b[39m\u001b[38;5;241m.\u001b[39moverlayList\u001b[38;5;241m.\u001b[39mappend(\u001b[43mImage\u001b[49m\u001b[43m(\u001b[49m\u001b[43mimage_path\u001b[49m\u001b[43m)\u001b[49m)\n",
      "File \u001b[0;32m/opt/conda/lib/python3.11/site-packages/fsl/data/image.py:1260\u001b[0m, in \u001b[0;36mImage.__init__\u001b[0;34m(self, image, name, header, xform, loadData, calcRange, threaded, dataSource, loadMeta, dataMgr, version, **kwargs)\u001b[0m\n\u001b[1;32m   1257\u001b[0m \u001b[38;5;28;01mif\u001b[39;00m \u001b[38;5;28misinstance\u001b[39m(image, (\u001b[38;5;28mstr\u001b[39m, Path)):\n\u001b[1;32m   1258\u001b[0m     \u001b[38;5;66;03m# resolve path to source if it is a sym-link\u001b[39;00m\n\u001b[1;32m   1259\u001b[0m     image      \u001b[38;5;241m=\u001b[39m Path(image)\u001b[38;5;241m.\u001b[39mresolve()\n\u001b[0;32m-> 1260\u001b[0m     image      \u001b[38;5;241m=\u001b[39m op\u001b[38;5;241m.\u001b[39mabspath(\u001b[43maddExt\u001b[49m\u001b[43m(\u001b[49m\u001b[43mimage\u001b[49m\u001b[43m)\u001b[49m)\n\u001b[1;32m   1261\u001b[0m     nibImage   \u001b[38;5;241m=\u001b[39m nib\u001b[38;5;241m.\u001b[39mload(image, \u001b[38;5;241m*\u001b[39m\u001b[38;5;241m*\u001b[39mkwargs)\n\u001b[1;32m   1262\u001b[0m     header     \u001b[38;5;241m=\u001b[39m nibImage\u001b[38;5;241m.\u001b[39mheader\n",
      "File \u001b[0;32m/opt/conda/lib/python3.11/site-packages/fsl/data/image.py:1969\u001b[0m, in \u001b[0;36maddExt\u001b[0;34m(prefix, mustExist, unambiguous)\u001b[0m\n\u001b[1;32m   1967\u001b[0m \u001b[38;5;28;01mif\u001b[39;00m \u001b[38;5;28mstr\u001b[39m(e)\u001b[38;5;241m.\u001b[39mstartswith(\u001b[38;5;124m'\u001b[39m\u001b[38;5;124mMore than\u001b[39m\u001b[38;5;124m'\u001b[39m):\n\u001b[1;32m   1968\u001b[0m     log\u001b[38;5;241m.\u001b[39mwarning(e)\n\u001b[0;32m-> 1969\u001b[0m \u001b[38;5;28;01mraise\u001b[39;00m e\n",
      "File \u001b[0;32m/opt/conda/lib/python3.11/site-packages/fsl/data/image.py:1956\u001b[0m, in \u001b[0;36maddExt\u001b[0;34m(prefix, mustExist, unambiguous)\u001b[0m\n\u001b[1;32m   1952\u001b[0m \u001b[38;5;250m\u001b[39m\u001b[38;5;124;03m\"\"\"Adds a file extension to the given file ``prefix``.  See\u001b[39;00m\n\u001b[1;32m   1953\u001b[0m \u001b[38;5;124;03m:func:`~fsl.utils.path.addExt`.\u001b[39;00m\n\u001b[1;32m   1954\u001b[0m \u001b[38;5;124;03m\"\"\"\u001b[39;00m\n\u001b[1;32m   1955\u001b[0m \u001b[38;5;28;01mtry\u001b[39;00m:\n\u001b[0;32m-> 1956\u001b[0m     \u001b[38;5;28;01mreturn\u001b[39;00m \u001b[43mfslpath\u001b[49m\u001b[38;5;241;43m.\u001b[39;49m\u001b[43maddExt\u001b[49m\u001b[43m(\u001b[49m\u001b[43mprefix\u001b[49m\u001b[43m,\u001b[49m\n\u001b[1;32m   1957\u001b[0m \u001b[43m                          \u001b[49m\u001b[43mallowedExts\u001b[49m\u001b[38;5;241;43m=\u001b[39;49m\u001b[43mALLOWED_EXTENSIONS\u001b[49m\u001b[43m,\u001b[49m\n\u001b[1;32m   1958\u001b[0m \u001b[43m                          \u001b[49m\u001b[43mmustExist\u001b[49m\u001b[38;5;241;43m=\u001b[39;49m\u001b[43mmustExist\u001b[49m\u001b[43m,\u001b[49m\n\u001b[1;32m   1959\u001b[0m \u001b[43m                          \u001b[49m\u001b[43mdefaultExt\u001b[49m\u001b[38;5;241;43m=\u001b[39;49m\u001b[43mdefaultExt\u001b[49m\u001b[43m(\u001b[49m\u001b[43m)\u001b[49m\u001b[43m,\u001b[49m\n\u001b[1;32m   1960\u001b[0m \u001b[43m                          \u001b[49m\u001b[43mfileGroups\u001b[49m\u001b[38;5;241;43m=\u001b[39;49m\u001b[43mFILE_GROUPS\u001b[49m\u001b[43m,\u001b[49m\n\u001b[1;32m   1961\u001b[0m \u001b[43m                          \u001b[49m\u001b[43munambiguous\u001b[49m\u001b[38;5;241;43m=\u001b[39;49m\u001b[43munambiguous\u001b[49m\u001b[43m)\u001b[49m\n\u001b[1;32m   1962\u001b[0m \u001b[38;5;28;01mexcept\u001b[39;00m fslpath\u001b[38;5;241m.\u001b[39mPathError \u001b[38;5;28;01mas\u001b[39;00m e:\n\u001b[1;32m   1963\u001b[0m     \u001b[38;5;66;03m# hacky: if more than one file with\u001b[39;00m\n\u001b[1;32m   1964\u001b[0m     \u001b[38;5;66;03m# the prefix exists, we emit a\u001b[39;00m\n\u001b[1;32m   1965\u001b[0m     \u001b[38;5;66;03m# warning, because in most cases\u001b[39;00m\n\u001b[1;32m   1966\u001b[0m     \u001b[38;5;66;03m# this is a bad thing.\u001b[39;00m\n\u001b[1;32m   1967\u001b[0m     \u001b[38;5;28;01mif\u001b[39;00m \u001b[38;5;28mstr\u001b[39m(e)\u001b[38;5;241m.\u001b[39mstartswith(\u001b[38;5;124m'\u001b[39m\u001b[38;5;124mMore than\u001b[39m\u001b[38;5;124m'\u001b[39m):\n",
      "File \u001b[0;32m/opt/conda/lib/python3.11/site-packages/fsl/utils/path.py:196\u001b[0m, in \u001b[0;36maddExt\u001b[0;34m(prefix, allowedExts, mustExist, defaultExt, fileGroups, unambiguous)\u001b[0m\n\u001b[1;32m    193\u001b[0m \u001b[38;5;66;03m# Could not find any supported file\u001b[39;00m\n\u001b[1;32m    194\u001b[0m \u001b[38;5;66;03m# with the specified prefix\u001b[39;00m\n\u001b[1;32m    195\u001b[0m \u001b[38;5;28;01mif\u001b[39;00m nexists \u001b[38;5;241m==\u001b[39m \u001b[38;5;241m0\u001b[39m:\n\u001b[0;32m--> 196\u001b[0m     \u001b[38;5;28;01mraise\u001b[39;00m PathError(\u001b[38;5;124m'\u001b[39m\u001b[38;5;124mCould not find a supported file \u001b[39m\u001b[38;5;124m'\u001b[39m\n\u001b[1;32m    197\u001b[0m                     \u001b[38;5;124m'\u001b[39m\u001b[38;5;124mwith prefix \u001b[39m\u001b[38;5;124m\"\u001b[39m\u001b[38;5;132;01m{}\u001b[39;00m\u001b[38;5;124m\"\u001b[39m\u001b[38;5;124m'\u001b[39m\u001b[38;5;241m.\u001b[39mformat(prefix))\n\u001b[1;32m    199\u001b[0m \u001b[38;5;66;03m# If ambiguity is ok, return\u001b[39;00m\n\u001b[1;32m    200\u001b[0m \u001b[38;5;66;03m# all matching paths\u001b[39;00m\n\u001b[1;32m    201\u001b[0m \u001b[38;5;28;01mif\u001b[39;00m \u001b[38;5;129;01mnot\u001b[39;00m unambiguous:\n",
      "\u001b[0;31mPathError\u001b[0m: Could not find a supported file with prefix \"/neurodesktop-storage/NSSPMini_Project1/data/subject101410/sub-101410/anat/sub-101410_T1w\""
     ]
    }
   ],
   "source": [
    "fsleyesDisplay.resetOverlays()\n",
    "fsleyesDisplay.load(op.join(anat_dir,\"sub-101410_T1w\"))\n",
    "fsleyesDisplay.load(resulting_mask_path)"
   ]
  },
  {
   "cell_type": "markdown",
   "id": "20831830-74f1-4e74-a72a-5374da585acc",
   "metadata": {},
   "source": [
    "#### Look how good the mask fits the brain. Do manual correction in FSL if needed (see Lab 2)"
   ]
  },
  {
   "cell_type": "markdown",
   "id": "a95d3e1f-8ed0-445c-af4d-a58ab4898012",
   "metadata": {},
   "source": [
    "### Applying the mask"
   ]
  },
  {
   "cell_type": "code",
   "execution_count": null,
   "id": "edf6a969-cade-43ea-8311-a719081b4037",
   "metadata": {},
   "outputs": [],
   "source": [
    "def apply_fsl_math_approach(img_path, mask_path, masked_img_path):\n",
    "    ###########################\n",
    "    # Solution\n",
    "    # By reading fslmaths documentation, one can see that the -mas option is exactly what we desire.\n",
    "    ###########################\n",
    "    os.system('fslmaths {} -mas {} {}'.format(img_path, mask_path, masked_img_path))\n",
    "    \n",
    "\n",
    "anatomical_path = op.join(bids_root, 'sub-101410', 'anat', 'sub-101410_T1w.nii.gz') # The original brain\n",
    "betted_brain_path = op.join(preproc_root, 'sub-101410', 'anat', 'sub-101410_T1w.nii.gz') # The brain without skull is in the derivatives folder\n",
    "resulting_mask_path = op.join(preproc_root, 'sub-101410', 'anat', 'sub-101410_T1w_mask.nii.gz') # The mask to use\n",
    "\n",
    "########################\n",
    "apply_fsl_math_approach(anatomical_path, resulting_mask_path, betted_brain_path)"
   ]
  },
  {
   "cell_type": "code",
   "execution_count": 15,
   "id": "ce109e4c-962c-47af-b188-66b850af163a",
   "metadata": {},
   "outputs": [
    {
     "ename": "NameError",
     "evalue": "name 'betted_brain_path' is not defined",
     "output_type": "error",
     "traceback": [
      "\u001b[0;31m---------------------------------------------------------------------------\u001b[0m",
      "\u001b[0;31mNameError\u001b[0m                                 Traceback (most recent call last)",
      "Cell \u001b[0;32mIn[15], line 2\u001b[0m\n\u001b[1;32m      1\u001b[0m \u001b[38;5;66;03m#fsleyesDisplay.resetOverlays()\u001b[39;00m\n\u001b[0;32m----> 2\u001b[0m fsleyesDisplay\u001b[38;5;241m.\u001b[39mload(\u001b[43mbetted_brain_path\u001b[49m)\n",
      "\u001b[0;31mNameError\u001b[0m: name 'betted_brain_path' is not defined"
     ]
    }
   ],
   "source": [
    "#fsleyesDisplay.resetOverlays()\n",
    "fsleyesDisplay.load(betted_brain_path)"
   ]
  },
  {
   "cell_type": "markdown",
   "id": "2457c5a1-46af-4113-b783-2b1163f0f946",
   "metadata": {},
   "source": [
    "## Segmentation"
   ]
  },
  {
   "cell_type": "markdown",
   "id": "f9f12758-f9be-4b58-98a4-cda83b4f4f6f",
   "metadata": {},
   "source": [
    "Takes a long time to run"
   ]
  },
  {
   "cell_type": "code",
   "execution_count": null,
   "id": "6ba3c8bc-7a15-4bc7-8ad0-0f59bb5e14d6",
   "metadata": {},
   "outputs": [],
   "source": [
    "anatomical_path = op.join(bids_root, 'sub-101410', 'anat', 'sub-101410_T1w.nii.gz')\n",
    "bet_path = op.join(preproc_root, 'sub-101410', 'anat', 'sub-101410_T1w')\n",
    "\n",
    "#########################\n",
    "# We must apply FAST to the brain-extracted image. Thus we must use the BET path brain.\n",
    "##########################\n",
    "fast_target = bet_path \n",
    "\n",
    "[os.remove(f) for f in glob.glob(op.join(preproc_root, 'sub-101410', 'anat', '*fast*'))] # Just to clean the directory in between runs of the cell\n",
    "segmentation_path = op.join(preproc_root, 'sub-101410', 'anat', 'sub-101410_T1w_fast')\n",
    "fast(imgs=[fast_target], out=segmentation_path, n_classes=3)"
   ]
  },
  {
   "cell_type": "code",
   "execution_count": 16,
   "id": "cb0363ce-085f-4dc7-b4bb-46ca5d906fa1",
   "metadata": {},
   "outputs": [
    {
     "name": "stdout",
     "output_type": "stream",
     "text": [
      "|subject101410/\n",
      "|--- derivatives/\n",
      "|------ preprocessed_data/\n",
      "|--------- sub-101410/\n",
      "|------------ anat/\n",
      "|------------ fmap/\n",
      "|------------ func/\n",
      "|--- sub-101410/\n",
      "|------ anat/\n",
      "|------ func/\n"
     ]
    }
   ],
   "source": [
    "print_dir_tree(bids_root, max_depth=5)"
   ]
  },
  {
   "cell_type": "markdown",
   "id": "aa0e7242-76a0-4765-92c1-a860e88dab66",
   "metadata": {},
   "source": [
    "The pve files correspond to our segmented tissues. We have exactly three files, because we set n_classes to 3 above:\n",
    "```python\n",
    "fast(..., n_classes=3)\n",
    "```\n",
    "\n",
    "Let's try to identify which segmentation is which tissue type in the brain. To do this, you'll have to visualize the tissues and decide for yourself."
   ]
  },
  {
   "cell_type": "markdown",
   "id": "3b697562-cb79-499b-9cdd-c2d9b20980ca",
   "metadata": {},
   "source": [
    "To make it easier on you, we will display:\n",
    "\n",
    "- pve_0 in <span style=\"color:red;\">red</span> --> cerebrospinal fluid\n",
    "- pve_1 in <span style=\"color:green;\">green</span> --> grey matter\n",
    "- pve_2 in <span style=\"color:blue;\">blue</span> --> white matter"
   ]
  },
  {
   "cell_type": "code",
   "execution_count": 17,
   "id": "49a693fe-2974-4d4e-8c26-491fd9beb482",
   "metadata": {},
   "outputs": [
    {
     "ename": "NameError",
     "evalue": "name 'bet_path' is not defined",
     "output_type": "error",
     "traceback": [
      "\u001b[0;31m---------------------------------------------------------------------------\u001b[0m",
      "\u001b[0;31mNameError\u001b[0m                                 Traceback (most recent call last)",
      "Cell \u001b[0;32mIn[17], line 2\u001b[0m\n\u001b[1;32m      1\u001b[0m fsleyesDisplay\u001b[38;5;241m.\u001b[39mresetOverlays()\n\u001b[0;32m----> 2\u001b[0m fsleyesDisplay\u001b[38;5;241m.\u001b[39mload(\u001b[43mbet_path\u001b[49m)\n\u001b[1;32m      3\u001b[0m fsleyesDisplay\u001b[38;5;241m.\u001b[39mload(glob\u001b[38;5;241m.\u001b[39mglob(op\u001b[38;5;241m.\u001b[39mjoin(preproc_root, \u001b[38;5;124m'\u001b[39m\u001b[38;5;124msub-101410\u001b[39m\u001b[38;5;124m'\u001b[39m, \u001b[38;5;124m'\u001b[39m\u001b[38;5;124manat\u001b[39m\u001b[38;5;124m'\u001b[39m,\u001b[38;5;124m'\u001b[39m\u001b[38;5;124m*pve_0*\u001b[39m\u001b[38;5;124m'\u001b[39m))[\u001b[38;5;241m0\u001b[39m])\n\u001b[1;32m      4\u001b[0m fsleyesDisplay\u001b[38;5;241m.\u001b[39mload(glob\u001b[38;5;241m.\u001b[39mglob(op\u001b[38;5;241m.\u001b[39mjoin(preproc_root, \u001b[38;5;124m'\u001b[39m\u001b[38;5;124msub-101410\u001b[39m\u001b[38;5;124m'\u001b[39m, \u001b[38;5;124m'\u001b[39m\u001b[38;5;124manat\u001b[39m\u001b[38;5;124m'\u001b[39m,\u001b[38;5;124m'\u001b[39m\u001b[38;5;124m*pve_1*\u001b[39m\u001b[38;5;124m'\u001b[39m))[\u001b[38;5;241m0\u001b[39m])\n",
      "\u001b[0;31mNameError\u001b[0m: name 'bet_path' is not defined"
     ]
    }
   ],
   "source": [
    "fsleyesDisplay.resetOverlays()\n",
    "fsleyesDisplay.load(bet_path)\n",
    "fsleyesDisplay.load(glob.glob(op.join(preproc_root, 'sub-101410', 'anat','*pve_0*'))[0])\n",
    "fsleyesDisplay.load(glob.glob(op.join(preproc_root, 'sub-101410', 'anat','*pve_1*'))[0])\n",
    "fsleyesDisplay.load(glob.glob(op.join(preproc_root, 'sub-101410', 'anat','*pve_2*'))[0])\n",
    "fsleyesDisplay.displayCtx.getOpts(fsleyesDisplay.overlayList[1]).cmap = 'Red'\n",
    "fsleyesDisplay.displayCtx.getOpts(fsleyesDisplay.overlayList[2]).cmap = 'Green'\n",
    "fsleyesDisplay.displayCtx.getOpts(fsleyesDisplay.overlayList[3]).cmap = 'Blue'"
   ]
  },
  {
   "cell_type": "markdown",
   "id": "e0784b1c-bf2e-4def-a62d-206415e7b8bc",
   "metadata": {},
   "source": [
    "# 2. Functional preprocessing"
   ]
  },
  {
   "cell_type": "code",
   "execution_count": null,
   "id": "573100a3-1148-4880-b6ac-cbe04a617868",
   "metadata": {},
   "outputs": [],
   "source": [
    "fsleyesDisplay.resetOverlays()\n",
    "fsleyesDisplay.load(op.expandvars('/home/jovyan/neurodesktop-storage/NSSPMini_Project1/data/subject101410/sub-101410/func/sub-101410_task-motorLR_bold.nii.gz'))"
   ]
  },
  {
   "cell_type": "markdown",
   "id": "56a43f28-a7c8-4494-b6e4-3cbac3207b16",
   "metadata": {},
   "source": [
    "## Concatenating"
   ]
  },
  {
   "cell_type": "markdown",
   "id": "459c9ffe-ec78-4275-97b0-d257030b0ba9",
   "metadata": {},
   "source": [
    "Before merging both runs together, we want to rescale them. The reason is that different runs can have different overall signal intensities or variances, because of: scanner gain or baseline drift, physiological noise changes or small differences in acquisition or head position."
   ]
  },
  {
   "cell_type": "code",
   "execution_count": 18,
   "id": "6de8fa8f-96ed-4aba-a3d3-625e12e6b331",
   "metadata": {},
   "outputs": [
    {
     "ename": "FileNotFoundError",
     "evalue": "No such file or no access: '/home/jovyan/neurodesktop-storage/NSSPMini_Project1/data/subject101410/fMRI/tfMRI_MOTOR_LR/tfMRI_MOTOR_LR.nii'",
     "output_type": "error",
     "traceback": [
      "\u001b[0;31m---------------------------------------------------------------------------\u001b[0m",
      "\u001b[0;31mFileNotFoundError\u001b[0m                         Traceback (most recent call last)",
      "File \u001b[0;32m/opt/conda/lib/python3.11/site-packages/nibabel/loadsave.py:100\u001b[0m, in \u001b[0;36mload\u001b[0;34m(filename, **kwargs)\u001b[0m\n\u001b[1;32m     99\u001b[0m \u001b[38;5;28;01mtry\u001b[39;00m:\n\u001b[0;32m--> 100\u001b[0m     stat_result \u001b[38;5;241m=\u001b[39m \u001b[43mos\u001b[49m\u001b[38;5;241;43m.\u001b[39;49m\u001b[43mstat\u001b[49m\u001b[43m(\u001b[49m\u001b[43mfilename\u001b[49m\u001b[43m)\u001b[49m\n\u001b[1;32m    101\u001b[0m \u001b[38;5;28;01mexcept\u001b[39;00m \u001b[38;5;167;01mOSError\u001b[39;00m:\n",
      "\u001b[0;31mFileNotFoundError\u001b[0m: [Errno 2] No such file or directory: '/home/jovyan/neurodesktop-storage/NSSPMini_Project1/data/subject101410/fMRI/tfMRI_MOTOR_LR/tfMRI_MOTOR_LR.nii'",
      "\nDuring handling of the above exception, another exception occurred:\n",
      "\u001b[0;31mFileNotFoundError\u001b[0m                         Traceback (most recent call last)",
      "Cell \u001b[0;32mIn[18], line 25\u001b[0m\n\u001b[1;32m     23\u001b[0m \u001b[38;5;28;01mfor\u001b[39;00m run_name, run_file \u001b[38;5;129;01min\u001b[39;00m runs_info:\n\u001b[1;32m     24\u001b[0m     run_path \u001b[38;5;241m=\u001b[39m os\u001b[38;5;241m.\u001b[39mpath\u001b[38;5;241m.\u001b[39mjoin(bids_root, \u001b[38;5;124m'\u001b[39m\u001b[38;5;124mfMRI\u001b[39m\u001b[38;5;124m'\u001b[39m, run_name, run_file)\n\u001b[0;32m---> 25\u001b[0m     img \u001b[38;5;241m=\u001b[39m \u001b[43mnib\u001b[49m\u001b[38;5;241;43m.\u001b[39;49m\u001b[43mload\u001b[49m\u001b[43m(\u001b[49m\u001b[43mrun_path\u001b[49m\u001b[43m)\u001b[49m\n\u001b[1;32m     26\u001b[0m     data \u001b[38;5;241m=\u001b[39m img\u001b[38;5;241m.\u001b[39mget_fdata(dtype\u001b[38;5;241m=\u001b[39mnp\u001b[38;5;241m.\u001b[39mfloat32)  \u001b[38;5;66;03m# Use float32 to save memory\u001b[39;00m\n\u001b[1;32m     28\u001b[0m     \u001b[38;5;66;03m# Simple brain mask\u001b[39;00m\n",
      "File \u001b[0;32m/opt/conda/lib/python3.11/site-packages/nibabel/loadsave.py:102\u001b[0m, in \u001b[0;36mload\u001b[0;34m(filename, **kwargs)\u001b[0m\n\u001b[1;32m    100\u001b[0m     stat_result \u001b[38;5;241m=\u001b[39m os\u001b[38;5;241m.\u001b[39mstat(filename)\n\u001b[1;32m    101\u001b[0m \u001b[38;5;28;01mexcept\u001b[39;00m \u001b[38;5;167;01mOSError\u001b[39;00m:\n\u001b[0;32m--> 102\u001b[0m     \u001b[38;5;28;01mraise\u001b[39;00m \u001b[38;5;167;01mFileNotFoundError\u001b[39;00m(\u001b[38;5;124mf\u001b[39m\u001b[38;5;124m\"\u001b[39m\u001b[38;5;124mNo such file or no access: \u001b[39m\u001b[38;5;124m'\u001b[39m\u001b[38;5;132;01m{\u001b[39;00mfilename\u001b[38;5;132;01m}\u001b[39;00m\u001b[38;5;124m'\u001b[39m\u001b[38;5;124m\"\u001b[39m)\n\u001b[1;32m    103\u001b[0m \u001b[38;5;28;01mif\u001b[39;00m stat_result\u001b[38;5;241m.\u001b[39mst_size \u001b[38;5;241m<\u001b[39m\u001b[38;5;241m=\u001b[39m \u001b[38;5;241m0\u001b[39m:\n\u001b[1;32m    104\u001b[0m     \u001b[38;5;28;01mraise\u001b[39;00m ImageFileError(\u001b[38;5;124mf\u001b[39m\u001b[38;5;124m\"\u001b[39m\u001b[38;5;124mEmpty file: \u001b[39m\u001b[38;5;124m'\u001b[39m\u001b[38;5;132;01m{\u001b[39;00mfilename\u001b[38;5;132;01m}\u001b[39;00m\u001b[38;5;124m'\u001b[39m\u001b[38;5;124m\"\u001b[39m)\n",
      "\u001b[0;31mFileNotFoundError\u001b[0m: No such file or no access: '/home/jovyan/neurodesktop-storage/NSSPMini_Project1/data/subject101410/fMRI/tfMRI_MOTOR_LR/tfMRI_MOTOR_LR.nii'"
     ]
    }
   ],
   "source": [
    "import os\n",
    "import numpy as np\n",
    "import nibabel as nib\n",
    "from nilearn.image import concat_imgs, new_img_like\n",
    "import matplotlib.pyplot as plt\n",
    "\n",
    "# Define paths\n",
    "subject = 'subject101410'\n",
    "\n",
    "# Raw fMRI runs\n",
    "runs_info = [\n",
    "    ('tfMRI_MOTOR_LR', 'tfMRI_MOTOR_LR.nii'),\n",
    "    ('tfMRI_MOTOR_RL', 'tfMRI_MOTOR_RL.nii')\n",
    "]\n",
    "\n",
    "# Output folder for preprocessed/scaled runs\n",
    "output_dir = os.path.join(preproc_root, 'sub-101410', 'func')\n",
    "os.makedirs(output_dir, exist_ok=True)\n",
    "\n",
    "concatenated = [] #merged file\n",
    "\n",
    "# Process each run independently\n",
    "for run_name, run_file in runs_info:\n",
    "    run_path = os.path.join(bids_root, 'fMRI', run_name, run_file)\n",
    "    img = nib.load(run_path)\n",
    "    data = img.get_fdata(dtype=np.float32)  # Use float32 to save memory\n",
    "    \n",
    "    # Simple brain mask\n",
    "    brain_mask = data > 0\n",
    "    global_var = np.var(data[brain_mask], dtype=np.float64)\n",
    "    \n",
    "    # Rescale to unit variance\n",
    "    scaled_data = data / np.sqrt(global_var)\n",
    "    del data #free memory\n",
    "    \n",
    "    # Save scaled run\n",
    "    output_path = os.path.join(output_dir, f'{subject}_{run_name}_scaled.nii.gz')\n",
    "    new_img = new_img_like(img, scaled_data)\n",
    "    new_img.to_filename(output_path)\n",
    "    print(f'Saved scaled run to: {output_path}')\n",
    "    concatenated.append(new_img)# merging both runs\n",
    "    del scaled_data #free memory\n",
    "\n",
    "\n",
    "concat_img = concat_imgs(concatenated)\n",
    "concat_img.to_filename(os.path.join(output_dir, 'subject101410_tfMRI_MOTOR_concat_rescaled.nii.gz'))\n",
    "\n"
   ]
  },
  {
   "cell_type": "code",
   "execution_count": null,
   "id": "635b252a-4dd0-4ef6-b5fb-cf96db2ed388",
   "metadata": {},
   "outputs": [],
   "source": [
    "concat_path = os.path.join(preproc_root, 'sub-101410', 'func', 'subject101410_tfMRI_MOTOR_RL_scaled.nii.gz')\n",
    "fsleyesDisplay.resetOverlays()\n",
    "fsleyesDisplay.load(concat_path)"
   ]
  },
  {
   "cell_type": "markdown",
   "id": "5448feed-06fa-47a1-a9f2-e62796466a06",
   "metadata": {},
   "source": [
    "We will now plot the mean voxel intensity of both runs before and after resacaling. This will show, that we have only changed the variance of the data, but not its realative infromation."
   ]
  },
  {
   "cell_type": "code",
   "execution_count": 19,
   "id": "f1677ef6-5eb0-41e5-a7b5-7e7bf677a681",
   "metadata": {},
   "outputs": [
    {
     "ename": "FileNotFoundError",
     "evalue": "No such file or no access: '/home/jovyan/neurodesktop-storage/NSSPMini_Project1/data/subject101410/fMRI/tfMRI_MOTOR_RL/tfMRI_MOTOR_RL.nii'",
     "output_type": "error",
     "traceback": [
      "\u001b[0;31m---------------------------------------------------------------------------\u001b[0m",
      "\u001b[0;31mFileNotFoundError\u001b[0m                         Traceback (most recent call last)",
      "File \u001b[0;32m/opt/conda/lib/python3.11/site-packages/nibabel/loadsave.py:100\u001b[0m, in \u001b[0;36mload\u001b[0;34m(filename, **kwargs)\u001b[0m\n\u001b[1;32m     99\u001b[0m \u001b[38;5;28;01mtry\u001b[39;00m:\n\u001b[0;32m--> 100\u001b[0m     stat_result \u001b[38;5;241m=\u001b[39m os\u001b[38;5;241m.\u001b[39mstat(filename)\n\u001b[1;32m    101\u001b[0m \u001b[38;5;28;01mexcept\u001b[39;00m \u001b[38;5;167;01mOSError\u001b[39;00m:\n",
      "\u001b[0;31mFileNotFoundError\u001b[0m: [Errno 2] No such file or directory: '/home/jovyan/neurodesktop-storage/NSSPMini_Project1/data/subject101410/fMRI/tfMRI_MOTOR_RL/tfMRI_MOTOR_RL.nii'",
      "\nDuring handling of the above exception, another exception occurred:\n",
      "\u001b[0;31mFileNotFoundError\u001b[0m                         Traceback (most recent call last)",
      "Cell \u001b[0;32mIn[19], line 6\u001b[0m\n\u001b[1;32m      3\u001b[0m \u001b[38;5;28;01mimport\u001b[39;00m \u001b[38;5;21;01mos\u001b[39;00m\u001b[38;5;21;01m.\u001b[39;00m\u001b[38;5;21;01mpath\u001b[39;00m \u001b[38;5;28;01mas\u001b[39;00m \u001b[38;5;21;01mop\u001b[39;00m\n\u001b[1;32m      5\u001b[0m \u001b[38;5;66;03m# Load your data\u001b[39;00m\n\u001b[0;32m----> 6\u001b[0m mean_rl \u001b[38;5;241m=\u001b[39m \u001b[43mnib\u001b[49m\u001b[38;5;241;43m.\u001b[39;49m\u001b[43mload\u001b[49m\u001b[43m(\u001b[49m\u001b[43mop\u001b[49m\u001b[38;5;241;43m.\u001b[39;49m\u001b[43mjoin\u001b[49m\u001b[43m(\u001b[49m\u001b[43mbids_root\u001b[49m\u001b[43m,\u001b[49m\u001b[43m \u001b[49m\u001b[38;5;124;43m'\u001b[39;49m\u001b[38;5;124;43mfMRI\u001b[39;49m\u001b[38;5;124;43m'\u001b[39;49m\u001b[43m,\u001b[49m\u001b[43m \u001b[49m\u001b[38;5;124;43m'\u001b[39;49m\u001b[38;5;124;43mtfMRI_MOTOR_RL\u001b[39;49m\u001b[38;5;124;43m'\u001b[39;49m\u001b[43m,\u001b[49m\u001b[43m \u001b[49m\u001b[38;5;124;43m'\u001b[39;49m\u001b[38;5;124;43mtfMRI_MOTOR_RL.nii\u001b[39;49m\u001b[38;5;124;43m'\u001b[39;49m\u001b[43m)\u001b[49m\u001b[43m)\u001b[49m\u001b[38;5;241m.\u001b[39mget_fdata()\u001b[38;5;241m.\u001b[39mmean(axis\u001b[38;5;241m=\u001b[39m(\u001b[38;5;241m0\u001b[39m,\u001b[38;5;241m1\u001b[39m,\u001b[38;5;241m2\u001b[39m))\n\u001b[1;32m      7\u001b[0m mean_lr \u001b[38;5;241m=\u001b[39m nib\u001b[38;5;241m.\u001b[39mload(op\u001b[38;5;241m.\u001b[39mjoin(bids_root, \u001b[38;5;124m'\u001b[39m\u001b[38;5;124mfMRI\u001b[39m\u001b[38;5;124m'\u001b[39m, \u001b[38;5;124m'\u001b[39m\u001b[38;5;124mtfMRI_MOTOR_LR\u001b[39m\u001b[38;5;124m'\u001b[39m, \u001b[38;5;124m'\u001b[39m\u001b[38;5;124mtfMRI_MOTOR_LR.nii\u001b[39m\u001b[38;5;124m'\u001b[39m))\u001b[38;5;241m.\u001b[39mget_fdata()\u001b[38;5;241m.\u001b[39mmean(axis\u001b[38;5;241m=\u001b[39m(\u001b[38;5;241m0\u001b[39m,\u001b[38;5;241m1\u001b[39m,\u001b[38;5;241m2\u001b[39m))\n\u001b[1;32m      9\u001b[0m sc_mean_rl \u001b[38;5;241m=\u001b[39m nib\u001b[38;5;241m.\u001b[39mload(op\u001b[38;5;241m.\u001b[39mjoin(preproc_root, \u001b[38;5;124m'\u001b[39m\u001b[38;5;124msub-101410\u001b[39m\u001b[38;5;124m'\u001b[39m, \u001b[38;5;124m'\u001b[39m\u001b[38;5;124mfunc\u001b[39m\u001b[38;5;124m'\u001b[39m, \u001b[38;5;124m'\u001b[39m\u001b[38;5;124msubject101410_tfMRI_MOTOR_RL_scaled.nii.gz\u001b[39m\u001b[38;5;124m'\u001b[39m))\u001b[38;5;241m.\u001b[39mget_fdata()\u001b[38;5;241m.\u001b[39mmean(axis\u001b[38;5;241m=\u001b[39m(\u001b[38;5;241m0\u001b[39m,\u001b[38;5;241m1\u001b[39m,\u001b[38;5;241m2\u001b[39m))\n",
      "File \u001b[0;32m/opt/conda/lib/python3.11/site-packages/nibabel/loadsave.py:102\u001b[0m, in \u001b[0;36mload\u001b[0;34m(filename, **kwargs)\u001b[0m\n\u001b[1;32m    100\u001b[0m     stat_result \u001b[38;5;241m=\u001b[39m os\u001b[38;5;241m.\u001b[39mstat(filename)\n\u001b[1;32m    101\u001b[0m \u001b[38;5;28;01mexcept\u001b[39;00m \u001b[38;5;167;01mOSError\u001b[39;00m:\n\u001b[0;32m--> 102\u001b[0m     \u001b[38;5;28;01mraise\u001b[39;00m \u001b[38;5;167;01mFileNotFoundError\u001b[39;00m(\u001b[38;5;124mf\u001b[39m\u001b[38;5;124m\"\u001b[39m\u001b[38;5;124mNo such file or no access: \u001b[39m\u001b[38;5;124m'\u001b[39m\u001b[38;5;132;01m{\u001b[39;00mfilename\u001b[38;5;132;01m}\u001b[39;00m\u001b[38;5;124m'\u001b[39m\u001b[38;5;124m\"\u001b[39m)\n\u001b[1;32m    103\u001b[0m \u001b[38;5;28;01mif\u001b[39;00m stat_result\u001b[38;5;241m.\u001b[39mst_size \u001b[38;5;241m<\u001b[39m\u001b[38;5;241m=\u001b[39m \u001b[38;5;241m0\u001b[39m:\n\u001b[1;32m    104\u001b[0m     \u001b[38;5;28;01mraise\u001b[39;00m ImageFileError(\u001b[38;5;124mf\u001b[39m\u001b[38;5;124m\"\u001b[39m\u001b[38;5;124mEmpty file: \u001b[39m\u001b[38;5;124m'\u001b[39m\u001b[38;5;132;01m{\u001b[39;00mfilename\u001b[38;5;132;01m}\u001b[39;00m\u001b[38;5;124m'\u001b[39m\u001b[38;5;124m\"\u001b[39m)\n",
      "\u001b[0;31mFileNotFoundError\u001b[0m: No such file or no access: '/home/jovyan/neurodesktop-storage/NSSPMini_Project1/data/subject101410/fMRI/tfMRI_MOTOR_RL/tfMRI_MOTOR_RL.nii'"
     ]
    }
   ],
   "source": [
    "import matplotlib.pyplot as plt\n",
    "import nibabel as nib\n",
    "import os.path as op\n",
    "\n",
    "# Load your data\n",
    "mean_rl = nib.load(op.join(bids_root, 'fMRI', 'tfMRI_MOTOR_RL', 'tfMRI_MOTOR_RL.nii')).get_fdata().mean(axis=(0,1,2))\n",
    "mean_lr = nib.load(op.join(bids_root, 'fMRI', 'tfMRI_MOTOR_LR', 'tfMRI_MOTOR_LR.nii')).get_fdata().mean(axis=(0,1,2))\n",
    "\n",
    "sc_mean_rl = nib.load(op.join(preproc_root, 'sub-101410', 'func', 'subject101410_tfMRI_MOTOR_RL_scaled.nii.gz')).get_fdata().mean(axis=(0,1,2))\n",
    "sc_mean_lr = nib.load(op.join(preproc_root, 'sub-101410', 'func', 'subject101410_tfMRI_MOTOR_LR_scaled.nii.gz')).get_fdata().mean(axis=(0,1,2))\n",
    "\n",
    "\n",
    "# Compute global min/max for y-axis alignment\n",
    "ymin = min(mean_rl.min(), mean_lr.min())\n",
    "ymax = max(mean_rl.max(), mean_lr.max())\n",
    "\n",
    "sc_ymin = min(sc_mean_rl.min(), sc_mean_lr.min())\n",
    "sc_ymax = max(sc_mean_rl.max(), sc_mean_lr.max())\n",
    "\n",
    "\n",
    "# Create subplots\n",
    "fig, axes = plt.subplots(2, 2, figsize=(10,10))\n",
    "fig.suptitle('Mean Voxel Intensity')\n",
    "\n",
    "axes[0,0].plot(mean_rl)\n",
    "axes[0,0].set_title('MOTOR_RL')\n",
    "axes[0,0].set(xlabel='Time (volume)', ylabel='Mean voxel intensity', ylim=(ymin, ymax))\n",
    "\n",
    "axes[0,1].plot(mean_lr)\n",
    "axes[0,1].set_title('MOTOR_LR')\n",
    "axes[0,1].set(xlabel='Time (volume)', ylabel='Mean voxel intensity', ylim=(ymin, ymax))\n",
    "\n",
    "axes[1,0].plot(sc_mean_rl)\n",
    "axes[1,0].set_title('scaled MOTOR_RL')\n",
    "axes[1,0].set(xlabel='Time (volume)', ylabel='Mean voxel intensity', ylim=(sc_ymin, sc_ymax))\n",
    "\n",
    "axes[1,1].plot(sc_mean_lr)\n",
    "axes[1,1].set_title('scaled MOTOR_LR')\n",
    "axes[1,1].set(xlabel='Time (volume)', ylabel='Mean voxel intensity', ylim=(sc_ymin, sc_ymax))\n",
    "\n",
    "plt.tight_layout()\n",
    "plt.show()\n",
    "\n"
   ]
  },
  {
   "cell_type": "markdown",
   "id": "55a94ff9-c036-47d5-9468-8c382d64b72e",
   "metadata": {},
   "source": [
    "## Motion correction"
   ]
  },
  {
   "cell_type": "markdown",
   "id": "6874fe73-ae5a-4417-aa90-20dca927ef27",
   "metadata": {},
   "source": [
    "Attention: By default, MCFLIRT selects the middle volume of the EPI serie as reference to which other volumes are realigned."
   ]
  },
  {
   "cell_type": "code",
   "execution_count": null,
   "id": "84deacd5-0757-4471-8d33-53bde8d10a05",
   "metadata": {},
   "outputs": [],
   "source": [
    "from fsl.wrappers import mcflirt\n",
    "\n",
    "# for RL\n",
    "path_original_data = op.join(preproc_root, 'sub-101410', 'func', 'subject101410_tfMRI_MOTOR_RL_scaled')\n",
    "path_moco_data = os.path.join(preproc_root, 'sub-101410', 'func', 'subject101410_tfMRI_MOTOR_RL_scaled_bold_moco')\n",
    "mcflirt(infile=path_original_data,o=path_moco_data, plots=True, report=True, dof=6, mats=True)"
   ]
  },
  {
   "cell_type": "code",
   "execution_count": 20,
   "id": "c67ce8c5-4a01-4e6d-85b6-077535a8d577",
   "metadata": {},
   "outputs": [
    {
     "ename": "NameError",
     "evalue": "name 'path_original_data' is not defined",
     "output_type": "error",
     "traceback": [
      "\u001b[0;31m---------------------------------------------------------------------------\u001b[0m",
      "\u001b[0;31mNameError\u001b[0m                                 Traceback (most recent call last)",
      "Cell \u001b[0;32mIn[20], line 2\u001b[0m\n\u001b[1;32m      1\u001b[0m fsleyesDisplay\u001b[38;5;241m.\u001b[39mresetOverlays()\n\u001b[0;32m----> 2\u001b[0m fsleyesDisplay\u001b[38;5;241m.\u001b[39mload(\u001b[43mpath_original_data\u001b[49m)\n\u001b[1;32m      3\u001b[0m fsleyesDisplay\u001b[38;5;241m.\u001b[39mload(path_moco_data)\n",
      "\u001b[0;31mNameError\u001b[0m: name 'path_original_data' is not defined"
     ]
    }
   ],
   "source": [
    "fsleyesDisplay.resetOverlays()\n",
    "fsleyesDisplay.load(path_original_data)\n",
    "fsleyesDisplay.load(path_moco_data)"
   ]
  },
  {
   "cell_type": "code",
   "execution_count": null,
   "id": "674d16ea-1957-46ee-b19e-743cec3de989",
   "metadata": {},
   "outputs": [],
   "source": [
    "def load_mot_params_fsl_6_dof(path):\n",
    "    return pd.read_csv(path, sep='  ', header=None, \n",
    "            engine='python', names=['Rotation x', 'Rotation y', 'Rotation z','Translation x', 'Translation y', 'Translation z'])\n",
    "\n",
    "mot_params = load_mot_params_fsl_6_dof(op.join(preproc_root, 'sub-101410', 'func', 'subject101410_tfMRI_MOTOR_RL_scaled_bold_moco.par'))\n",
    "\n",
    "# Getting the translation is easy\n",
    "trans_x = mot_params[\"Translation x\"]\n",
    "trans_y = mot_params[\"Translation y\"]\n",
    "trans_z = mot_params[\"Translation z\"]\n",
    "# Now, we want a 0.2mm with respect to previous frame:\n",
    "disp_x = np.diff(trans_x)\n",
    "disp_y = np.diff(trans_y)\n",
    "disp_z = np.diff(trans_z)\n",
    "# Lastly, we can ask for displacements (in absolute value) above 0.2mm and plot it to be clear:\n",
    "threshold=0.1\n",
    "plt.plot(np.abs(disp_x), 'r', label='x translation')\n",
    "plt.plot(np.abs(disp_y), 'b', label='y translation')\n",
    "plt.plot(np.abs(disp_z), 'g', label='z translation')\n",
    "\n",
    "plt.legend()\n",
    "\n",
    "plt.hlines(threshold, 0, 300,colors='black', linestyles='dashed', label='FD threshold')\n",
    "plt.xlabel(\"Volumes\")\n",
    "plt.ylabel(\"Framewise translation displacement (mm)\")\n",
    "plt.title(\"Translation for MOTOR_RL\")\n",
    "plt.show()"
   ]
  },
  {
   "cell_type": "code",
   "execution_count": 21,
   "id": "54ec6b0f-c844-4ea0-a103-f1c609e8c33f",
   "metadata": {},
   "outputs": [
    {
     "ename": "NameError",
     "evalue": "name 'mcflirt' is not defined",
     "output_type": "error",
     "traceback": [
      "\u001b[0;31m---------------------------------------------------------------------------\u001b[0m",
      "\u001b[0;31mNameError\u001b[0m                                 Traceback (most recent call last)",
      "Cell \u001b[0;32mIn[21], line 4\u001b[0m\n\u001b[1;32m      2\u001b[0m path_original_data \u001b[38;5;241m=\u001b[39m op\u001b[38;5;241m.\u001b[39mjoin(preproc_root, \u001b[38;5;124m'\u001b[39m\u001b[38;5;124msub-101410\u001b[39m\u001b[38;5;124m'\u001b[39m, \u001b[38;5;124m'\u001b[39m\u001b[38;5;124mfunc\u001b[39m\u001b[38;5;124m'\u001b[39m, \u001b[38;5;124m'\u001b[39m\u001b[38;5;124msubject101410_tfMRI_MOTOR_LR_scaled\u001b[39m\u001b[38;5;124m'\u001b[39m)\n\u001b[1;32m      3\u001b[0m path_moco_data \u001b[38;5;241m=\u001b[39m os\u001b[38;5;241m.\u001b[39mpath\u001b[38;5;241m.\u001b[39mjoin(preproc_root, \u001b[38;5;124m'\u001b[39m\u001b[38;5;124msub-101410\u001b[39m\u001b[38;5;124m'\u001b[39m, \u001b[38;5;124m'\u001b[39m\u001b[38;5;124mfunc\u001b[39m\u001b[38;5;124m'\u001b[39m, \u001b[38;5;124m'\u001b[39m\u001b[38;5;124msubject101410_tfMRI_MOTOR_LR_scaled_bold_moco\u001b[39m\u001b[38;5;124m'\u001b[39m)\n\u001b[0;32m----> 4\u001b[0m \u001b[43mmcflirt\u001b[49m(infile\u001b[38;5;241m=\u001b[39mpath_original_data,o\u001b[38;5;241m=\u001b[39mpath_moco_data, plots\u001b[38;5;241m=\u001b[39m\u001b[38;5;28;01mTrue\u001b[39;00m, report\u001b[38;5;241m=\u001b[39m\u001b[38;5;28;01mTrue\u001b[39;00m, dof\u001b[38;5;241m=\u001b[39m\u001b[38;5;241m6\u001b[39m, mats\u001b[38;5;241m=\u001b[39m\u001b[38;5;28;01mTrue\u001b[39;00m)\n",
      "\u001b[0;31mNameError\u001b[0m: name 'mcflirt' is not defined"
     ]
    }
   ],
   "source": [
    "#for LR\n",
    "path_original_data = op.join(preproc_root, 'sub-101410', 'func', 'subject101410_tfMRI_MOTOR_LR_scaled')\n",
    "path_moco_data = os.path.join(preproc_root, 'sub-101410', 'func', 'subject101410_tfMRI_MOTOR_LR_scaled_bold_moco')\n",
    "mcflirt(infile=path_original_data,o=path_moco_data, plots=True, report=True, dof=6, mats=True)"
   ]
  },
  {
   "cell_type": "code",
   "execution_count": null,
   "id": "f08e0287-6074-443d-b951-49ccd881da13",
   "metadata": {},
   "outputs": [],
   "source": [
    "def load_mot_params_fsl_6_dof(path):\n",
    "    return pd.read_csv(path, sep='  ', header=None, \n",
    "            engine='python', names=['Rotation x', 'Rotation y', 'Rotation z','Translation x', 'Translation y', 'Translation z'])\n",
    "\n",
    "mot_params = load_mot_params_fsl_6_dof(op.join(preproc_root, 'sub-101410', 'func', 'subject101410_tfMRI_MOTOR_LR_scaled_bold_moco.par'))\n",
    "\n",
    "# Getting the translation is easy\n",
    "trans_x = mot_params[\"Translation x\"]\n",
    "trans_y = mot_params[\"Translation y\"]\n",
    "trans_z = mot_params[\"Translation z\"]\n",
    "# Now, we want a 0.2mm with respect to previous frame:\n",
    "disp_x = np.diff(trans_x)\n",
    "disp_y = np.diff(trans_y)\n",
    "disp_z = np.diff(trans_z)\n",
    "# Lastly, we can ask for displacements (in absolute value) above 0.2mm and plot it to be clear:\n",
    "threshold=0.1\n",
    "plt.plot(np.abs(disp_x), 'r', label='x translation')\n",
    "plt.plot(np.abs(disp_y), 'b', label='y translation')\n",
    "plt.plot(np.abs(disp_z), 'g', label='z translation')\n",
    "\n",
    "plt.legend()\n",
    "\n",
    "plt.hlines(threshold, 0, 300,colors='black', linestyles='dashed', label='FD threshold')\n",
    "plt.xlabel(\"Volumes\")\n",
    "plt.ylabel(\"Framewise translation displacement (mm)\")\n",
    "plt.title(\"Translation for MOTOR_LR\")\n",
    "plt.show()"
   ]
  },
  {
   "cell_type": "markdown",
   "id": "d0149809-535d-407d-b13c-f8cc46c91a8d",
   "metadata": {},
   "source": [
    "## Gaussian smoothing"
   ]
  },
  {
   "cell_type": "markdown",
   "id": "52b92fbb-ea74-4739-9380-b7490a74790d",
   "metadata": {},
   "source": [
    "I am unsure on how to determine the size of our filter. Currently it is 6 mm"
   ]
  },
  {
   "cell_type": "code",
   "execution_count": 22,
   "id": "52760353-bb7c-4fa1-9977-5cdd21800be4",
   "metadata": {},
   "outputs": [
    {
     "name": "stderr",
     "output_type": "stream",
     "text": [
      "Image Exception : #63 :: No image files match: /home/jovyan/neurodesktop-storage/NSSPMini_Project1/data/subject101410/derivatives/preprocessed_data/sub-101410/func/subject101410_tfMRI_MOTOR_LR_scaled_bold_moco\n",
      "terminate called after throwing an instance of 'std::runtime_error'\n",
      "  what():  No image files match: /home/jovyan/neurodesktop-storage/NSSPMini_Project1/data/subject101410/derivatives/preprocessed_data/sub-101410/func/subject101410_tfMRI_MOTOR_LR_scaled_bold_moco\n",
      "/cvmfs/neurodesk.ardc.edu.au/containers/fsl_6.0.7.4_20231005/fslmaths: line 3:  6044 Aborted                 (core dumped) singularity --silent exec $neurodesk_singularity_opts --pwd \"$PWD\" /cvmfs/neurodesk.ardc.edu.au/containers/fsl_6.0.7.4_20231005/fsl_6.0.7.4_20231005.simg fslmaths \"$@\"\n"
     ]
    },
    {
     "data": {
      "text/plain": [
       "CompletedProcess(args=['fslmaths', '/home/jovyan/neurodesktop-storage/NSSPMini_Project1/data/subject101410/derivatives/preprocessed_data/sub-101410/func/subject101410_tfMRI_MOTOR_LR_scaled_bold_moco.nii.gz', '-s', '2.547987090198743', '/home/jovyan/neurodesktop-storage/NSSPMini_Project1/data/subject101410/derivatives/preprocessed_data/sub-101410/func/subject101410_tfMRI_MOTOR_LR_scaled_bold_moco.nii.gz_smoothed-6mm'], returncode=134)"
      ]
     },
     "execution_count": 22,
     "metadata": {},
     "output_type": "execute_result"
    }
   ],
   "source": [
    "import subprocess\n",
    "output_path = op.join(preproc_root, 'sub-101410', 'func', 'subject101410_tfMRI_MOTOR_LR_scaled_bold_moco.nii.gz')\n",
    "\n",
    "cmd = 'fslmaths {} -s {} {}_smoothed-6mm'.format(output_path, 6/2.3548, output_path)\n",
    "subprocess.run(['fslmaths',output_path, '-s', str(6/2.3548), '{}_smoothed-6mm'.format(output_path)])"
   ]
  },
  {
   "cell_type": "code",
   "execution_count": 23,
   "id": "95fbdc37-4449-4cb3-babd-46668e767532",
   "metadata": {},
   "outputs": [
    {
     "ename": "PathError",
     "evalue": "Could not find a supported file with prefix \"/neurodesktop-storage/NSSPMini_Project1/data/subject101410/derivatives/preprocessed_data/sub-101410/func/subject101410_tfMRI_MOTOR_LR_scaled_bold_moco.nii.gz\"",
     "output_type": "error",
     "traceback": [
      "\u001b[0;31m---------------------------------------------------------------------------\u001b[0m",
      "\u001b[0;31mPathError\u001b[0m                                 Traceback (most recent call last)",
      "Cell \u001b[0;32mIn[23], line 3\u001b[0m\n\u001b[1;32m      1\u001b[0m smoothed_path \u001b[38;5;241m=\u001b[39m op\u001b[38;5;241m.\u001b[39mjoin(preproc_root, \u001b[38;5;124m'\u001b[39m\u001b[38;5;124msub-101410\u001b[39m\u001b[38;5;124m'\u001b[39m, \u001b[38;5;124m'\u001b[39m\u001b[38;5;124mfunc\u001b[39m\u001b[38;5;124m'\u001b[39m, \u001b[38;5;124m'\u001b[39m\u001b[38;5;124msubject101410_tfMRI_MOTOR_LR_scaled_bold_moco.nii.gz_smoothed-6mm\u001b[39m\u001b[38;5;124m'\u001b[39m)\n\u001b[1;32m      2\u001b[0m fsleyesDisplay\u001b[38;5;241m.\u001b[39mresetOverlays()\n\u001b[0;32m----> 3\u001b[0m \u001b[43mfsleyesDisplay\u001b[49m\u001b[38;5;241;43m.\u001b[39;49m\u001b[43mload\u001b[49m\u001b[43m(\u001b[49m\u001b[43moutput_path\u001b[49m\u001b[43m)\u001b[49m\n\u001b[1;32m      4\u001b[0m fsleyesDisplay\u001b[38;5;241m.\u001b[39mload(smoothed_path)\n",
      "File \u001b[0;32m/neurodesktop-storage/NSSPMini_Project1/utils.py:124\u001b[0m, in \u001b[0;36mFSLeyesServer.load\u001b[0;34m(self, image_path)\u001b[0m\n\u001b[1;32m    122\u001b[0m     \u001b[38;5;28mself\u001b[39m\u001b[38;5;241m.\u001b[39moverlayList\u001b[38;5;241m.\u001b[39mappend(trk_overlay)\n\u001b[1;32m    123\u001b[0m \u001b[38;5;28;01melse\u001b[39;00m:\n\u001b[0;32m--> 124\u001b[0m     \u001b[38;5;28mself\u001b[39m\u001b[38;5;241m.\u001b[39moverlayList\u001b[38;5;241m.\u001b[39mappend(\u001b[43mImage\u001b[49m\u001b[43m(\u001b[49m\u001b[43mimage_path\u001b[49m\u001b[43m)\u001b[49m)\n",
      "File \u001b[0;32m/opt/conda/lib/python3.11/site-packages/fsl/data/image.py:1260\u001b[0m, in \u001b[0;36mImage.__init__\u001b[0;34m(self, image, name, header, xform, loadData, calcRange, threaded, dataSource, loadMeta, dataMgr, version, **kwargs)\u001b[0m\n\u001b[1;32m   1257\u001b[0m \u001b[38;5;28;01mif\u001b[39;00m \u001b[38;5;28misinstance\u001b[39m(image, (\u001b[38;5;28mstr\u001b[39m, Path)):\n\u001b[1;32m   1258\u001b[0m     \u001b[38;5;66;03m# resolve path to source if it is a sym-link\u001b[39;00m\n\u001b[1;32m   1259\u001b[0m     image      \u001b[38;5;241m=\u001b[39m Path(image)\u001b[38;5;241m.\u001b[39mresolve()\n\u001b[0;32m-> 1260\u001b[0m     image      \u001b[38;5;241m=\u001b[39m op\u001b[38;5;241m.\u001b[39mabspath(\u001b[43maddExt\u001b[49m\u001b[43m(\u001b[49m\u001b[43mimage\u001b[49m\u001b[43m)\u001b[49m)\n\u001b[1;32m   1261\u001b[0m     nibImage   \u001b[38;5;241m=\u001b[39m nib\u001b[38;5;241m.\u001b[39mload(image, \u001b[38;5;241m*\u001b[39m\u001b[38;5;241m*\u001b[39mkwargs)\n\u001b[1;32m   1262\u001b[0m     header     \u001b[38;5;241m=\u001b[39m nibImage\u001b[38;5;241m.\u001b[39mheader\n",
      "File \u001b[0;32m/opt/conda/lib/python3.11/site-packages/fsl/data/image.py:1969\u001b[0m, in \u001b[0;36maddExt\u001b[0;34m(prefix, mustExist, unambiguous)\u001b[0m\n\u001b[1;32m   1967\u001b[0m \u001b[38;5;28;01mif\u001b[39;00m \u001b[38;5;28mstr\u001b[39m(e)\u001b[38;5;241m.\u001b[39mstartswith(\u001b[38;5;124m'\u001b[39m\u001b[38;5;124mMore than\u001b[39m\u001b[38;5;124m'\u001b[39m):\n\u001b[1;32m   1968\u001b[0m     log\u001b[38;5;241m.\u001b[39mwarning(e)\n\u001b[0;32m-> 1969\u001b[0m \u001b[38;5;28;01mraise\u001b[39;00m e\n",
      "File \u001b[0;32m/opt/conda/lib/python3.11/site-packages/fsl/data/image.py:1956\u001b[0m, in \u001b[0;36maddExt\u001b[0;34m(prefix, mustExist, unambiguous)\u001b[0m\n\u001b[1;32m   1952\u001b[0m \u001b[38;5;250m\u001b[39m\u001b[38;5;124;03m\"\"\"Adds a file extension to the given file ``prefix``.  See\u001b[39;00m\n\u001b[1;32m   1953\u001b[0m \u001b[38;5;124;03m:func:`~fsl.utils.path.addExt`.\u001b[39;00m\n\u001b[1;32m   1954\u001b[0m \u001b[38;5;124;03m\"\"\"\u001b[39;00m\n\u001b[1;32m   1955\u001b[0m \u001b[38;5;28;01mtry\u001b[39;00m:\n\u001b[0;32m-> 1956\u001b[0m     \u001b[38;5;28;01mreturn\u001b[39;00m \u001b[43mfslpath\u001b[49m\u001b[38;5;241;43m.\u001b[39;49m\u001b[43maddExt\u001b[49m\u001b[43m(\u001b[49m\u001b[43mprefix\u001b[49m\u001b[43m,\u001b[49m\n\u001b[1;32m   1957\u001b[0m \u001b[43m                          \u001b[49m\u001b[43mallowedExts\u001b[49m\u001b[38;5;241;43m=\u001b[39;49m\u001b[43mALLOWED_EXTENSIONS\u001b[49m\u001b[43m,\u001b[49m\n\u001b[1;32m   1958\u001b[0m \u001b[43m                          \u001b[49m\u001b[43mmustExist\u001b[49m\u001b[38;5;241;43m=\u001b[39;49m\u001b[43mmustExist\u001b[49m\u001b[43m,\u001b[49m\n\u001b[1;32m   1959\u001b[0m \u001b[43m                          \u001b[49m\u001b[43mdefaultExt\u001b[49m\u001b[38;5;241;43m=\u001b[39;49m\u001b[43mdefaultExt\u001b[49m\u001b[43m(\u001b[49m\u001b[43m)\u001b[49m\u001b[43m,\u001b[49m\n\u001b[1;32m   1960\u001b[0m \u001b[43m                          \u001b[49m\u001b[43mfileGroups\u001b[49m\u001b[38;5;241;43m=\u001b[39;49m\u001b[43mFILE_GROUPS\u001b[49m\u001b[43m,\u001b[49m\n\u001b[1;32m   1961\u001b[0m \u001b[43m                          \u001b[49m\u001b[43munambiguous\u001b[49m\u001b[38;5;241;43m=\u001b[39;49m\u001b[43munambiguous\u001b[49m\u001b[43m)\u001b[49m\n\u001b[1;32m   1962\u001b[0m \u001b[38;5;28;01mexcept\u001b[39;00m fslpath\u001b[38;5;241m.\u001b[39mPathError \u001b[38;5;28;01mas\u001b[39;00m e:\n\u001b[1;32m   1963\u001b[0m     \u001b[38;5;66;03m# hacky: if more than one file with\u001b[39;00m\n\u001b[1;32m   1964\u001b[0m     \u001b[38;5;66;03m# the prefix exists, we emit a\u001b[39;00m\n\u001b[1;32m   1965\u001b[0m     \u001b[38;5;66;03m# warning, because in most cases\u001b[39;00m\n\u001b[1;32m   1966\u001b[0m     \u001b[38;5;66;03m# this is a bad thing.\u001b[39;00m\n\u001b[1;32m   1967\u001b[0m     \u001b[38;5;28;01mif\u001b[39;00m \u001b[38;5;28mstr\u001b[39m(e)\u001b[38;5;241m.\u001b[39mstartswith(\u001b[38;5;124m'\u001b[39m\u001b[38;5;124mMore than\u001b[39m\u001b[38;5;124m'\u001b[39m):\n",
      "File \u001b[0;32m/opt/conda/lib/python3.11/site-packages/fsl/utils/path.py:196\u001b[0m, in \u001b[0;36maddExt\u001b[0;34m(prefix, allowedExts, mustExist, defaultExt, fileGroups, unambiguous)\u001b[0m\n\u001b[1;32m    193\u001b[0m \u001b[38;5;66;03m# Could not find any supported file\u001b[39;00m\n\u001b[1;32m    194\u001b[0m \u001b[38;5;66;03m# with the specified prefix\u001b[39;00m\n\u001b[1;32m    195\u001b[0m \u001b[38;5;28;01mif\u001b[39;00m nexists \u001b[38;5;241m==\u001b[39m \u001b[38;5;241m0\u001b[39m:\n\u001b[0;32m--> 196\u001b[0m     \u001b[38;5;28;01mraise\u001b[39;00m PathError(\u001b[38;5;124m'\u001b[39m\u001b[38;5;124mCould not find a supported file \u001b[39m\u001b[38;5;124m'\u001b[39m\n\u001b[1;32m    197\u001b[0m                     \u001b[38;5;124m'\u001b[39m\u001b[38;5;124mwith prefix \u001b[39m\u001b[38;5;124m\"\u001b[39m\u001b[38;5;132;01m{}\u001b[39;00m\u001b[38;5;124m\"\u001b[39m\u001b[38;5;124m'\u001b[39m\u001b[38;5;241m.\u001b[39mformat(prefix))\n\u001b[1;32m    199\u001b[0m \u001b[38;5;66;03m# If ambiguity is ok, return\u001b[39;00m\n\u001b[1;32m    200\u001b[0m \u001b[38;5;66;03m# all matching paths\u001b[39;00m\n\u001b[1;32m    201\u001b[0m \u001b[38;5;28;01mif\u001b[39;00m \u001b[38;5;129;01mnot\u001b[39;00m unambiguous:\n",
      "\u001b[0;31mPathError\u001b[0m: Could not find a supported file with prefix \"/neurodesktop-storage/NSSPMini_Project1/data/subject101410/derivatives/preprocessed_data/sub-101410/func/subject101410_tfMRI_MOTOR_LR_scaled_bold_moco.nii.gz\""
     ]
    }
   ],
   "source": [
    "smoothed_path = op.join(preproc_root, 'sub-101410', 'func', 'subject101410_tfMRI_MOTOR_LR_scaled_bold_moco.nii.gz_smoothed-6mm')\n",
    "fsleyesDisplay.resetOverlays()\n",
    "fsleyesDisplay.load(output_path)\n",
    "fsleyesDisplay.load(smoothed_path)"
   ]
  },
  {
   "cell_type": "markdown",
   "id": "0b0d807b-e00a-4fb5-ae7d-b10e38fcdbd6",
   "metadata": {},
   "source": [
    "## Co-registration"
   ]
  },
  {
   "cell_type": "code",
   "execution_count": null,
   "id": "1e1b5647-001c-424f-9ce0-ecc15eb8c044",
   "metadata": {},
   "outputs": [],
   "source": [
    "print_dir_tree(bids_root, max_depth=5)"
   ]
  },
  {
   "cell_type": "code",
   "execution_count": null,
   "id": "a196043c-14e7-42fe-ab91-0d0f5ebdc560",
   "metadata": {},
   "outputs": [],
   "source": [
    "from fsl.wrappers import epi_reg\n",
    "\n",
    "#################\n",
    "# We use the motion corrected EPI \n",
    "##################\n",
    "\n",
    "# We use the motion corrected EPI\n",
    "epi_source = op.join(preproc_root, 'sub-101410', 'func', 'subject101410_tfMRI_MOTOR_RL_scaled_bold_moco.nii.gz')\n",
    "\n",
    "# whole-head T1 (BIDS)\n",
    "whole_t1 = op.join(bids_root, 'sub-101410', 'anat', 'sub-101410_T1w.nii.gz')\n",
    "\n",
    "# True brain-extracted T1 using mask already generated\n",
    "t1_mask = op.join(preproc_root, 'sub-101410', 'anat', 'sub-101410_T1w_mask.nii.gz')\n",
    "t1_brain = op.join(preproc_root, 'sub-101410', 'anat', 'sub-101410_T1w_brain.nii.gz')\n",
    "\n",
    "# Output\n",
    "output_dir = op.join(preproc_root, 'sub-101410', 'func')\n",
    "os.makedirs(output_dir, exist_ok=True)\n",
    "output_path = op.join(output_dir, 'subject101410_tfMRI_MOTOR_RL_scaled_bold_bbr')\n",
    "\n",
    "# skull_stripped_t1 = op.join(preproc_root, 'sub-101410', 'anat', 'sub-101410_T1w')\n",
    "# output_path = op.join(preproc_root, 'sub-101410', 'func', 'subject101410_tfMRI_MOTOR_RL_scaled_bold_bbr')\n",
    "\n",
    "# Take middle reference volume\n",
    "ref_vol_name =  op.join(preproc_root, 'sub-101410', 'func', 'subject101410_tfMRI_MOTOR_RL_scaled_bold_moco_vol_middle.nii.gz')\n",
    "use_single_vol = True\n",
    "\n",
    "# Make sure inputs exist\n",
    "for p in (epi_source, whole_t1, t1_mask):\n",
    "    if not op.exists(p):\n",
    "        raise FileNotFoundError(f\"Missing: {p}\")\n",
    "\n",
    "# Create a T1 brain image if it doesn't exist yet\n",
    "if not op.exists(t1_brain):\n",
    "    subprocess.run(['fslmaths', whole_t1, '-mas', t1_mask, t1_brain], check=True)\n",
    "\n",
    "# Run epi_reg (basic) using single-volume ref and T1 brain\n",
    "subprocess.run(['epi_reg', f'--epi={refo_vol_name}', f'--t1={whole_t1}', f'--t1brain={t1_brain}', f'--out={output_path}'], check=True)\n",
    "\n",
    "# if use_single_vol:\n",
    "#     # Extract the middle volume with fslroi as we've seen before :)\n",
    "#     fslroi(epi_source, ref_vol_name, str(182), str(1))\n",
    "#     # Call epi_reg\n",
    "#     subprocess.run(['epi_reg','--epi={}'.format(ref_vol_name), '--t1={}'.format(whole_t1), '--t1brain={}'.format(skull_stripped_t1), '--out={}'.format(output_path)])\n",
    "# else:\n",
    "#     subprocess.run(['epi_reg','--epi={}'.format(epi_source), '--t1={}'.format(whole_t1), '--t1brain={}'.format(skull_stripped_t1), '--out={}'.format(output_path)])\n"
   ]
  },
  {
   "cell_type": "code",
   "execution_count": 24,
   "id": "38f30b37-2a7b-40d5-ad3d-42df1104b134",
   "metadata": {},
   "outputs": [
    {
     "ename": "SyntaxError",
     "evalue": "f-string: unmatched ')' (732640489.py, line 8)",
     "output_type": "error",
     "traceback": [
      "\u001b[0;36m  Cell \u001b[0;32mIn[24], line 8\u001b[0;36m\u001b[0m\n\u001b[0;31m    raise FileNotFoundError(f\"Missing WM PVE2: {white_matter_segmentation)\")\u001b[0m\n\u001b[0m                                                                           ^\u001b[0m\n\u001b[0;31mSyntaxError\u001b[0m\u001b[0;31m:\u001b[0m f-string: unmatched ')'\n"
     ]
    }
   ],
   "source": [
    "###############\n",
    "# White matter corresponds to pve_2.\n",
    "##############\n",
    "\n",
    "white_matter_segmentation = op.join(preproc_root, 'sub-101410', 'anat', 'sub-101410_T1w_fast_pve_2.nii.gz') # We provide the white matter segmentation\n",
    "\n",
    "if not op.exists(white_matter_segmentation):\n",
    "    raise FileNotFoundError(f\"Missing WM PVE2: {white_matter_segmentation)\")\n",
    "\n",
    "subprocess.run(['epi_reg','--epi={}'.format(ref_vol_name), '--t1={}'.format(whole_t1), '--t1brain={}'.format(t1_brain), \n",
    "                '--out={}'.format(output_path),\n",
    "               '--wmseg={}'.format(white_matter_segmentation)])"
   ]
  },
  {
   "cell_type": "code",
   "execution_count": null,
   "id": "f913f8ab-1558-4355-9e5a-63a2ed2ef896",
   "metadata": {},
   "outputs": [],
   "source": [
    "fsleyesDisplay.resetOverlays()\n",
    "fsleyesDisplay.load(t1_brain)\n",
    "fsleyesDisplay.load(output_path + \".nii.gz\")"
   ]
  },
  {
   "cell_type": "code",
   "execution_count": 25,
   "id": "ab6c6096-c772-429c-8c5e-6da97855661b",
   "metadata": {},
   "outputs": [
    {
     "name": "stdout",
     "output_type": "stream",
     "text": [
      "ls: cannot access '/home/jovyan/neurodesktop-storage/NSSPMini_Project1/data/subject101410/derivatives/preprocessed_data/sub-101410_T1w/func/': No such file or directory\n"
     ]
    }
   ],
   "source": [
    "ls -ld /home/jovyan/neurodesktop-storage/NSSPMini_Project1/data/subject101410/derivatives/preprocessed_data/sub-101410_T1w/func/"
   ]
  },
  {
   "cell_type": "code",
   "execution_count": null,
   "id": "f6bca883-7eda-4fd0-8a71-620bb999472a",
   "metadata": {},
   "outputs": [],
   "source": []
  },
  {
   "cell_type": "code",
   "execution_count": null,
   "id": "84e0e10c-8fda-4a31-ba3d-2f6c6ca4c5ad",
   "metadata": {},
   "outputs": [],
   "source": []
  },
  {
   "cell_type": "code",
   "execution_count": null,
   "id": "9ce6072b-4252-486a-95ce-945a5575cc95",
   "metadata": {},
   "outputs": [],
   "source": []
  }
 ],
 "metadata": {
  "kernelspec": {
   "display_name": "Python 3 (ipykernel)",
   "language": "python",
   "name": "python3"
  },
  "language_info": {
   "codemirror_mode": {
    "name": "ipython",
    "version": 3
   },
   "file_extension": ".py",
   "mimetype": "text/x-python",
   "name": "python",
   "nbconvert_exporter": "python",
   "pygments_lexer": "ipython3",
   "version": "3.11.6"
  }
 },
 "nbformat": 4,
 "nbformat_minor": 5
}
